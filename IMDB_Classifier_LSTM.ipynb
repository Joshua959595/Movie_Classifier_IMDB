{
  "nbformat": 4,
  "nbformat_minor": 0,
  "metadata": {
    "colab": {
      "provenance": []
    },
    "kernelspec": {
      "name": "python3",
      "display_name": "Python 3"
    },
    "language_info": {
      "name": "python"
    }
  },
  "cells": [
    {
      "cell_type": "markdown",
      "source": [
        "**1. 드라이브 마운트**"
      ],
      "metadata": {
        "id": "hZUikLVTnUPg"
      }
    },
    {
      "cell_type": "code",
      "execution_count": 1,
      "metadata": {
        "colab": {
          "base_uri": "https://localhost:8080/"
        },
        "id": "TG6MuXMlnN4g",
        "outputId": "d8449f7a-f5d0-4e87-e227-b65ee77be44a"
      },
      "outputs": [
        {
          "output_type": "stream",
          "name": "stdout",
          "text": [
            "Drive already mounted at /content/drive; to attempt to forcibly remount, call drive.mount(\"/content/drive\", force_remount=True).\n"
          ]
        }
      ],
      "source": [
        "from google.colab import drive\n",
        "drive.mount('/content/drive')"
      ]
    },
    {
      "cell_type": "markdown",
      "source": [
        "**2. 데이터 불러오기**"
      ],
      "metadata": {
        "id": "ENQYfGO3n4gU"
      }
    },
    {
      "cell_type": "code",
      "source": [
        "import pandas as pd\n",
        "import numpy as np\n",
        "import matplotlib.pyplot as plt\n",
        "import re\n",
        "from tqdm import tqdm\n",
        "from tensorflow.keras.preprocessing.text import Tokenizer\n",
        "from tensorflow.keras.preprocessing.sequence import pad_sequences"
      ],
      "metadata": {
        "id": "0l1LTM39nXic"
      },
      "execution_count": 2,
      "outputs": []
    },
    {
      "cell_type": "code",
      "source": [
        "parasite = pd.read_excel('/content/drive/MyDrive/Colab Notebooks/NLP/gisaengchung.xlsx')\n",
        "parasite['label'] = 1 # 기생충은 0\n",
        "dwar = pd.read_excel('/content/drive/MyDrive/Colab Notebooks/NLP/dwar.xlsx')\n",
        "dwar['label'] = 0 # 디워는 1"
      ],
      "metadata": {
        "id": "BDB5GgSznXe-"
      },
      "execution_count": 3,
      "outputs": []
    },
    {
      "cell_type": "markdown",
      "source": [
        "**3. 데이터 전처리**"
      ],
      "metadata": {
        "id": "ceWv68oZqZLV"
      }
    },
    {
      "cell_type": "code",
      "source": [
        "import nltk\n",
        "from nltk.corpus import stopwords\n",
        "from nltk.stem import WordNetLemmatizer\n",
        "nltk.download('all')\n",
        "nltk.download('popular')"
      ],
      "metadata": {
        "id": "Rg6jUUT-tX_t"
      },
      "execution_count": null,
      "outputs": []
    },
    {
      "cell_type": "markdown",
      "source": [
        "3-1) 중복 행 제거"
      ],
      "metadata": {
        "id": "zXU0Y_yCuMxt"
      }
    },
    {
      "cell_type": "code",
      "source": [
        "print('기생충 데이터 수 :',len(parasite))\n",
        "print('기생충 중복 제외 데이터 :', parasite['contents'].nunique())\n",
        "print('기생충 라벨 데이터 수 :', parasite['label'].nunique())\n",
        "print()\n",
        "print('디워 데이터 수 :',len(dwar))\n",
        "print('디워 중복 제외 데이터 :', dwar['contents'].nunique())\n",
        "print('디워 라벨 데이터 수 :', dwar['label'].nunique())\n",
        "print()\n",
        "parasite.drop_duplicates(subset=['contents'], inplace=True)\n",
        "print('중복 삭제 후, 기생충 데이터 수 :',len(parasite))\n",
        "print('중복 삭제 후, 기생충 중복 제외 데이터 :',parasite['contents'].nunique())"
      ],
      "metadata": {
        "id": "UlHwT776nXce"
      },
      "execution_count": null,
      "outputs": []
    },
    {
      "cell_type": "markdown",
      "source": [
        "3-2) 표제어 추출"
      ],
      "metadata": {
        "id": "qsnnsI5zuQQ8"
      }
    },
    {
      "cell_type": "code",
      "source": [
        "def preprocessing(text):\n",
        "    # 단어 토큰화\n",
        "    tokens = [word for sent in nltk.sent_tokenize(text) for word in nltk.word_tokenize(sent)] \n",
        "   \n",
        "    # 불용어 제거\n",
        "    stop = stopwords.words('english')\n",
        "    tokens = [token for token in tokens if token not in stop]\n",
        "    \n",
        "    # 3 단어 이내 단어 제거\n",
        "    tokens = [word for word in tokens if len(word) >= 3]\n",
        "       \n",
        "    # 소문자화\n",
        "    tokens = [word.lower() for word in tokens]\n",
        "    \n",
        "    # 표제어 추출\n",
        "    lmtzr = WordNetLemmatizer()\n",
        "    tokens = [lmtzr.lemmatize(word) for word in tokens]\n",
        "\n",
        "    preprocessed_text= ' '.join(tokens)\n",
        "    return preprocessed_text"
      ],
      "metadata": {
        "id": "EY74-6JQnXW2"
      },
      "execution_count": 7,
      "outputs": []
    },
    {
      "cell_type": "code",
      "source": [
        "parasite['contents_pre'] = parasite['contents'].apply(lambda x: preprocessing(x))\n",
        "dwar['contents_pre'] = dwar['contents'].apply(lambda x: preprocessing(x))"
      ],
      "metadata": {
        "id": "ClEq0_2PnXAL"
      },
      "execution_count": 8,
      "outputs": []
    },
    {
      "cell_type": "code",
      "source": [
        "parasite.head()\n",
        "dwar.head()"
      ],
      "metadata": {
        "id": "qPcHq5V0nW9l"
      },
      "execution_count": null,
      "outputs": []
    },
    {
      "cell_type": "markdown",
      "source": [
        "**4. Train & Test 분류**"
      ],
      "metadata": {
        "id": "KyA6-v8Gu5e_"
      }
    },
    {
      "cell_type": "code",
      "source": [
        "from sklearn.model_selection import train_test_split\n",
        "import numpy as np"
      ],
      "metadata": {
        "id": "ePgB8f-Ry-nE"
      },
      "execution_count": 10,
      "outputs": []
    },
    {
      "cell_type": "code",
      "source": [
        "parasite_train = parasite[:int(len(parasite)*0.75)]\n",
        "dwar_train = dwar[:int(len(dwar)*0.75)]\n",
        "parasite_test = parasite[int(len(parasite)*0.75):]\n",
        "dwar_test = dwar[int(len(dwar)*0.75):]\n",
        "\n",
        "train_data = pd.concat([parasite_train, dwar_train])\n",
        "test_data = pd.concat([parasite_test, dwar_test])"
      ],
      "metadata": {
        "id": "Vp80Zrq5wnTh"
      },
      "execution_count": 11,
      "outputs": []
    },
    {
      "cell_type": "code",
      "source": [
        "from tqdm import tqdm\n",
        "from tensorflow.keras.preprocessing.text import Tokenizer\n",
        "from tensorflow.keras.preprocessing.sequence import pad_sequences"
      ],
      "metadata": {
        "id": "1kKcX2JfxpXy"
      },
      "execution_count": 12,
      "outputs": []
    },
    {
      "cell_type": "code",
      "source": [
        "X_train = []\n",
        "for sentence in tqdm(train_data['contents_pre']):\n",
        "    X_train.append(sentence)"
      ],
      "metadata": {
        "colab": {
          "base_uri": "https://localhost:8080/"
        },
        "id": "d_-wvWpTnW4f",
        "outputId": "a3e04061-08d6-4541-cf59-3e9e3096e34c"
      },
      "execution_count": 13,
      "outputs": [
        {
          "output_type": "stream",
          "name": "stderr",
          "text": [
            "100%|██████████| 481/481 [00:00<00:00, 677227.33it/s]\n"
          ]
        }
      ]
    },
    {
      "cell_type": "code",
      "source": [
        "print(X_train[:3])"
      ],
      "metadata": {
        "colab": {
          "base_uri": "https://localhost:8080/"
        },
        "id": "2pdDqMwHyU8x",
        "outputId": "3b95ab06-9618-4ef0-9324-419c48dad972"
      },
      "execution_count": 14,
      "outputs": [
        {
          "output_type": "stream",
          "name": "stdout",
          "text": [
            "[\"remarkably stingy 10/10 rating 'll first person acknowledge roughly 2600 title 've rated parasite one n't masterpiece n't know is.i going keep vague plot-front n't know anything going really excited see progress unfold satisfying unexpected ways.what say film 've seen put many different emotional state 132-minute runtime without ever feeling muddled tonally inconsistent part movie hilarious part heartbreaking other part insanely suspenseful honestly sure 've felt close edge seat since final season breaking bad way back 2013 .and perfectly paced beautifully directed amazingly acted every single member cast all character understandable sympathetic degree amount conflict drama tension derived narrative clear hero villain staggering you come care them.i stumped come flaw movie and sure 've seen many movie hard fault rare movie appeal gut level excites degree also close technically perfect extremely entertaining thoroughly moving many different way icing cake ton social commentary heavy theme chew movie one going leave head tell .catch one believe hype joon-ho bong made many great film far bad one even manages stand head shoulder others.when come time consider best film 2010s one surely\", \"n't remember last time saw movie contained many genre 'parasite the movie start almost like 'ocean eleven heist film expands comedy mystery thriller drama romance crime even horror film really everything strikingly good too.i love film respect audience there many detail movie crucially important yet film trust audience notice acknowledge without ramming throat there lot layer film suspect reason rewatch-ability factor high.the film incredibly entertaining n't think boring scene movie yet surface large part film would say lot happening least term action fascinating character brilliant dialogue create great time 'parasite think give chance\", \"meritocracy success fortune reserved deserve develop solid plan according talent ability execute plan hard work determination anyone rise top lucky cinderella plucked cinder gussied gown meritocracy represents height perfect egalitarian society started nothing ended everything ever desired achieve dream try the promise unobstructed sunshine top mountain becomes justification bitter competition backstabbing deceit callousness you climb crooked ladder make straight one perhaps last feel secure afford kind confident generous easy nice 're rich mother film jang hye-jin one point observes.but long crooked ladder sometimes rung give beneath grip sometimes 've dangerously greased climbed sometimes ladder simply kicked either often staring ground there lot people trying climb one ladder.but meritocracy n't blame ladder people trying climb nor blame fact good stuff kept many story instead ground everyone easily reach must blame you tread carefully you climbed quickly you used firmer precise grip anticipated disaster known leap fail meritocracy fault you tried harder better luck next time.kim ki-woo choi woo-sik young man main character parasite several time refers metaphor film course metaphor surface level viewer treated thrilling engaging well-paced well-plotted crime story time however bubbling beneath slick surface genre film deeply personal meaningful truth resonate almost viewer these insight rarely foregrounded they subtly interwoven fact 're like may completely surprised final shot film roll realize emotionally devastated intimate humanist story 've witnessed bong joon-ho filmmaking extraordinary 'll make fully invested life character without even realizing done so.i want avoid spoiler suffice say parasite masterpiece beautifully lensed enthrallingly edited superbly acted intimately involving.south korea population one sixth size united state population stacked skyscraper area slightly smaller state kentucky higher education widespread parent mean try make child stand pack hiring tutor signing extracurriculars afterschool program lived korea child taught sometimes engaged learning ten twelve hour day six day week public school english-immersion private school piano class soccer team taekwondo math camp chess club routinely worked sixty seventy hour week salary bar would meet young men age expected work far slept desk need pry work long father song kang-ho film one point say country fifty young men college degree apply mere security guard job one n't afford struggle.the theme story localized korea however they story global capitalism specter american materialism imperialism note indian loom heavily film meritocracy make cannibal nice dream sometimes dreamer plan struggle well enough indeed climb basement sunshine nice ending but film also make clear sometimes planning dreaming may maybe whim fancy more often seems pipe dream content leave nothing whiff spewed sewage\"]\n"
          ]
        }
      ]
    },
    {
      "cell_type": "code",
      "source": [
        "X_test = []\n",
        "for sentence in tqdm(test_data['contents_pre']):\n",
        "    X_test.append(sentence)"
      ],
      "metadata": {
        "colab": {
          "base_uri": "https://localhost:8080/"
        },
        "id": "LCzJzP3eyU5P",
        "outputId": "6835fe77-4f97-4f29-f5c7-7fb375a76190"
      },
      "execution_count": 15,
      "outputs": [
        {
          "output_type": "stream",
          "name": "stderr",
          "text": [
            "100%|██████████| 162/162 [00:00<00:00, 504437.45it/s]\n"
          ]
        }
      ]
    },
    {
      "cell_type": "code",
      "source": [
        "tokenizer = Tokenizer()\n",
        "tokenizer.fit_on_texts(X_train)\n",
        "print(tokenizer.word_index)"
      ],
      "metadata": {
        "colab": {
          "base_uri": "https://localhost:8080/"
        },
        "id": "UkpqdTdgyU1b",
        "outputId": "08bb1943-8561-4f71-b9d4-551037aaa1b5"
      },
      "execution_count": 16,
      "outputs": [
        {
          "output_type": "stream",
          "name": "stdout",
          "text": [
            "{'movie': 1, 'film': 2, 'the': 3, \"n't\": 4, 'helpful': 5, 'one': 6, 'review': 7, 'like': 8, 'family': 9, 'found': 10, 'story': 11, 'good': 12, 'korean': 13, 'vote': 14, 'wa': 15, 'sign': 16, 'parasite': 17, 'permalink': 18, 'this': 19, 'see': 20, 'time': 21, 'dragon': 22, 'bad': 23, 'war': 24, 'best': 25, 'get': 26, 'would': 27, 'make': 28, 'even': 29, 'really': 30, 'character': 31, 'well': 32, 'acting': 33, 'people': 34, 'watch': 35, 'way': 36, 'much': 37, 'director': 38, 'made': 39, 'plot': 40, 'scene': 41, 'many': 42, 'but': 43, 'year': 44, 'could': 45, 'bong': 46, 'great': 47, 'poor': 48, 'park': 49, 'effect': 50, 'think': 51, 'thing': 52, 'class': 53, 'joon': 54, 'first': 55, 'say': 56, 'every': 57, 'ho': 58, 'seen': 59, 'rich': 60, 'korea': 61, 'lot': 62, 'better': 63, 'd': 64, 'know': 65, \"'ve\": 66, 'and': 67, 'also': 68, 'there': 69, 'come': 70, 'actor': 71, 'end': 72, 'ki': 73, 'take': 74, 'give': 75, 'something': 76, 'special': 77, 'i': 78, 'feel': 79, 'life': 80, 'want': 81, 'action': 82, 'work': 83, 'watching': 84, 'kim': 85, 'look': 86, 'going': 87, 'you': 88, 'love': 89, 'woo': 90, 'point': 91, 'cgi': 92, 'comedy': 93, 'ever': 94, 'script': 95, 'still': 96, 'it': 97, 'two': 98, 'world': 99, 'pretty': 100, 'masterpiece': 101, 'they': 102, 'south': 103, 'money': 104, 'monster': 105, 'long': 106, 'never': 107, 'actually': 108, 'nothing': 109, 'done': 110, 'find': 111, 'start': 112, 'everything': 113, \"'ll\": 114, 'minute': 115, 'part': 116, 'however': 117, 'thought': 118, 'got': 119, 'line': 120, 'audience': 121, 'shim': 122, 'social': 123, 'though': 124, 'foreign': 125, 'little': 126, 'american': 127, 'that': 128, 'back': 129, 'last': 130, 'kind': 131, '10': 132, 'enough': 133, 'oscar': 134, 'saw': 135, 'star': 136, 'without': 137, 'wealthy': 138, 'big': 139, 'far': 140, 'making': 141, 'new': 142, 'anything': 143, 'sure': 144, 'drama': 145, 'quite': 146, 'watched': 147, 'different': 148, 'day': 149, 'award': 150, 'thriller': 151, 'picture': 152, 'funny': 153, 'hollywood': 154, 'let': 155, 'may': 156, 'dark': 157, 'genre': 158, 'least': 159, 'must': 160, 'performance': 161, 'around': 162, 'real': 163, 'not': 164, 'whole': 165, 'said': 166, 'show': 167, 'legend': 168, 'mean': 169, 'hour': 170, 'turn': 171, 'moment': 172, 'almost': 173, 'friend': 174, 'guy': 175, 'rating': 176, 'entertaining': 177, \"'re\": 178, 'another': 179, 'hard': 180, 'top': 181, 'so': 182, 'english': 183, 'need': 184, 'job': 185, 'seeing': 186, 'twist': 187, 'right': 188, 'cinema': 189, 'understand': 190, 'what': 191, 'cast': 192, 'tell': 193, 'half': 194, 'reason': 195, 'son': 196, 'language': 197, 'theater': 198, 'might': 199, 'original': 200, 'amazing': 201, 'yet': 202, 'trying': 203, 'fact': 204, 'main': 205, 'mind': 206, 'put': 207, 'level': 208, 'perfect': 209, 'old': 210, '2019': 211, 'experience': 212, 'screen': 213, 'horrible': 214, 'try': 215, 'everyone': 216, 'song': 217, 'ending': 218, 'seems': 219, 'house': 220, 'society': 221, 'laugh': 222, 'cinematography': 223, 'home': 224, 'worth': 225, 'rather': 226, 'kid': 227, 'child': 228, 'definitely': 229, 'second': 230, 'bit': 231, 'keep': 232, 'felt': 233, 'all': 234, 'when': 235, 'brilliant': 236, 'anyone': 237, 'probably': 238, 'hope': 239, 'jung': 240, 'place': 241, 'away': 242, 'battle': 243, 'high': 244, 'next': 245, 'completely': 246, 'maybe': 247, 'art': 248, 'living': 249, 'expect': 250, 'enjoy': 251, 'recommend': 252, 'storyline': 253, 'terrible': 254, 'creature': 255, 'directed': 256, 'viewer': 257, 'interesting': 258, 'loved': 259, 'fun': 260, 'girl': 261, 'evil': 262, 'since': 263, 'either': 264, 'idea': 265, 'direction': 266, 'for': 267, 'daughter': 268, 'sequence': 269, 'become': 270, 'truly': 271, 'production': 272, 'horror': 273, 'kang': 274, 'throughout': 275, 'go': 276, 'shot': 277, 'father': 278, 'aspect': 279, 'always': 280, 'worst': 281, 'message': 282, 'set': 283, 'subtitle': 284, 'highly': 285, 'fi': 286, 'directing': 287, 'awful': 288, 'theme': 289, 'hye': 290, 'simply': 291, 'written': 292, 'wrong': 293, 'non': 294, 'style': 295, 'city': 296, 'stop': 297, 'just': 298, 'sci': 299, 'army': 300, 'sense': 301, 'excellent': 302, 'fantastic': 303, 'overall': 304, 'act': 305, 'in': 306, 'played': 307, 'power': 308, 'entire': 309, 'based': 310, 'went': 311, 'worse': 312, 'sometimes': 313, 'man': 314, 'rest': 315, 'writing': 316, 'piece': 317, 'gave': 318, 'absolutely': 319, 'stupid': 320, 'young': 321, 'course': 322, 'struggle': 323, 'jeong': 324, 'thinking': 325, 'screenplay': 326, 'comment': 327, 'flick': 328, 'given': 329, 'care': 330, 'others': 331, 'dialogue': 332, 'mother': 333, 'happens': 334, 'read': 335, 'opinion': 336, 'taek': 337, 'getting': 338, 'yes': 339, 'a': 340, 'human': 341, 'hand': 342, 'seem': 343, 'decent': 344, 'surprise': 345, 'element': 346, 'budget': 347, 'member': 348, 'easily': 349, 'strong': 350, 'help': 351, 'score': 352, 'wanted': 353, 'after': 354, 'enjoyed': 355, 'looking': 356, 'fan': 357, 'else': 358, 'game': 359, 'hole': 360, 'godzilla': 361, 'edge': 362, 'perfectly': 363, 'leave': 364, 'used': 365, 'con': 366, 'critic': 367, 'low': 368, 'fight': 369, 'now': 370, 'beautiful': 371, 'lead': 372, 'together': 373, 'quality': 374, 'coming': 375, 'da': 376, 'short': 377, 'please': 378, 'behr': 379, 'snake': 380, 'graphic': 381, 'computer': 382, 'commentary': 383, 'plan': 384, 'nice': 385, 'choi': 386, 'several': 387, 'sort': 388, 'win': 389, 'yeo': 390, 'mr': 391, 'giving': 392, 'call': 393, 'left': 394, 'expectation': 395, 'black': 396, 'saying': 397, 'huge': 398, 'spent': 399, 'crap': 400, 'transformer': 401, 'came': 402, 'seriously': 403, 'forster': 404, 'lord': 405, 'unexpected': 406, 'feeling': 407, 'often': 408, 'tutor': 409, 'basement': 410, 'later': 411, 'problem': 412, 'true': 413, 'asian': 414, 'modern': 415, 'writer': 416, 'snowpiercer': 417, 'difference': 418, 'already': 419, 'poverty': 420, 'worthy': 421, 'soon': 422, 'academy': 423, 'simple': 424, 'small': 425, 'full': 426, 'liked': 427, 'why': 428, 'whatever': 429, 'trailer': 430, 'rae': 431, 'giant': 432, 'jason': 433, 'believe': 434, 'jin': 435, 'country': 436, 'working': 437, 'with': 438, 'live': 439, 'able': 440, 'use': 441, 'wonderful': 442, 'couple': 443, 'humor': 444, 'unique': 445, 'dvd': 446, 'host': 447, 'name': 448, 'editing': 449, 'fantasy': 450, 'expecting': 451, 'ring': 452, 'hyung': 453, 'robert': 454, 'title': 455, 'hype': 456, 'instead': 457, 'opportunity': 458, 'although': 459, 'lee': 460, 'totally': 461, 'decade': 462, 'eye': 463, 'deserves': 464, 'how': 465, 'especially': 466, 'due': 467, 'waste': 468, 'imdb': 469, 'side': 470, 'ridiculous': 471, 'dialog': 472, 'seat': 473, 'detail': 474, 'boring': 475, 'easy': 476, 'expected': 477, 'within': 478, 'add': 479, 'development': 480, 'credit': 481, 'dam': 482, 'satire': 483, 'attention': 484, \"d'or\": 485, 'question': 486, 'heart': 487, 'face': 488, 'word': 489, 'heard': 490, 'matter': 491, 'fine': 492, 'ethan': 493, 'close': 494, 'final': 495, 'single': 496, 'incredibly': 497, 'chance': 498, 'play': 499, 'sister': 500, 'housekeeper': 501, 'change': 502, 'run': 503, 'sad': 504, 'failed': 505, 'favorite': 506, 'role': 507, 'begin': 508, 'today': 509, 'wife': 510, 'someone': 511, 'case': 512, 'using': 513, 'telling': 514, 'rate': 515, 'cool': 516, 'fighting': 517, 'head': 518, 'stuff': 519, 'situation': 520, 'light': 521, 'filmmaker': 522, 'then': 523, 'beginning': 524, 'lower': 525, 'miss': 526, 'complete': 527, 'talking': 528, 'move': 529, 'type': 530, 'boy': 531, 'palme': 532, 'winner': 533, 'enjoyable': 534, 'feature': 535, 'praise': 536, 'certainly': 537, 'guess': 538, 'lost': 539, 'min': 540, 'powerful': 541, 'basically': 542, 'past': 543, 'viewing': 544, 'attack': 545, 'awesome': 546, 'save': 547, 'imoogi': 548, 'acted': 549, 'hero': 550, 'extremely': 551, 'important': 552, 'metaphor': 553, 'meet': 554, 'etc': 555, 'chung': 556, 'sook': 557, 'tale': 558, 'looked': 559, 'cannes': 560, 'along': 561, 'violence': 562, 'effort': 563, 'hit': 564, 'million': 565, 'upon': 566, 'happen': 567, 'decided': 568, 'person': 569, 'honestly': 570, 'beautifully': 571, 'tension': 572, 'narrative': 573, 'clear': 574, 'villain': 575, 'remember': 576, 'known': 577, 'tried': 578, 'note': 579, 'household': 580, 'talk': 581, 'if': 582, 'follow': 583, 'entertainment': 584, 'fit': 585, 'realistic': 586, 'emotion': 587, 'offer': 588, 'sound': 589, 'hate': 590, 'festival': 591, 'wait': 592, 'behind': 593, 'literally': 594, 'middle': 595, 'wow': 596, 'event': 597, 'plus': 598, 'superb': 599, 'possible': 600, 'design': 601, 'write': 602, 'mention': 603, 'view': 604, 'impressive': 605, 'disappointed': 606, 'clearly': 607, 'hell': 608, 'badly': 609, 's': 610, 'state': 611, 'surely': 612, 'happening': 613, 'create': 614, 'becomes': 615, 'engaging': 616, 'surprised': 617, 'ten': 618, 'age': 619, '1': 620, 'cheap': 621, 'white': 622, 'major': 623, 'knew': 624, 'box': 625, 'example': 626, 'finally': 627, 'near': 628, 'on': 629, 'mix': 630, 'company': 631, 'yeon': 632, 'issue': 633, 'as': 634, '5': 635, 'knowing': 636, 'super': 637, 'sorry': 638, 'god': 639, 'suspense': 640, 'storytelling': 641, 'negative': 642, 'ago': 643, 'adult': 644, 'suck': 645, 'lame': 646, 'los': 647, 'angeles': 648, 'sarah': 649, 'cheesy': 650, 'wars': 651, 'king': 652, 'term': 653, 'started': 654, 'ground': 655, 'fully': 656, 'week': 657, 'clever': 658, 'depth': 659, 'tone': 660, 'culture': 661, 'future': 662, 'turned': 663, 'from': 664, 'despite': 665, 'describe': 666, 'cry': 667, 'pay': 668, 'wish': 669, 'classic': 670, 'happened': 671, 'certain': 672, 'artist': 673, 'honest': 674, 'out': 675, 'particular': 676, 'intense': 677, 'laughing': 678, 'purpose': 679, 'absolute': 680, 'forward': 681, 'slow': 682, 'fast': 683, 'reading': 684, 'visual': 685, 'destruction': 686, 'comedian': 687, '500': 688, 'emotional': 689, 'manages': 690, 'stand': 691, 'dream': 692, 'school': 693, 'le': 694, 'across': 695, 'stay': 696, 'standard': 697, 'usually': 698, 'mostly': 699, 'obvious': 700, 'exactly': 701, 'previous': 702, 'number': 703, 'ensemble': 704, 'needed': 705, 'cause': 706, 'brain': 707, 'kims': 708, 'filled': 709, 'lack': 710, 'do': 711, 'kyo': 712, 'fall': 713, '100': 714, 'violent': 715, 'glad': 716, 'international': 717, 'outstanding': 718, 'reminded': 719, 'brilliantly': 720, 'crappy': 721, 'nature': 722, 'supposed': 723, 'mediocre': 724, 'usa': 725, 'seemed': 726, 'hilarious': 727, 'rare': 728, 'layer': 729, 'jang': 730, 'kept': 731, 'avoid': 732, 'edited': 733, 'college': 734, 'hidden': 735, 'cost': 736, 'some': 737, 'towards': 738, 'including': 739, 'surprising': 740, 'check': 741, 'step': 742, 'whether': 743, 'creative': 744, 'except': 745, 'return': 746, 'order': 747, 'smart': 748, 'okja': 749, 'series': 750, 'window': 751, 'open': 752, 'free': 753, 'present': 754, 'remake': 755, 'alone': 756, 'nomination': 757, 'incredible': 758, 'called': 759, 'mess': 760, 'confused': 761, 'potential': 762, 'joke': 763, 'missing': 764, 'took': 765, 'market': 766, 'showing': 767, 'master': 768, 'finish': 769, 'serious': 770, 'taking': 771, 'weak': 772, 'happy': 773, 'version': 774, 'u': 775, 'everybody': 776, 'serpent': 777, 'jurassic': 778, 'poorly': 779, 'blockbuster': 780, 'rated': 781, 'respect': 782, 'trust': 783, 'sik': 784, 'focus': 785, 'somehow': 786, 'favourite': 787, 'over': 788, 'tense': 789, 'self': 790, 'overrated': 791, 'sun': 792, 'kyun': 793, '9': 794, 'scheme': 795, 'have': 796, 'bunch': 797, 'forget': 798, 'throw': 799, 'unfortunately': 800, 'his': 801, 'unemployed': 802, 'otherwise': 803, 'dramatic': 804, 'five': 805, 'concept': 806, 'value': 807, 'appears': 808, 'received': 809, 'cut': 810, 'obviously': 811, '2': 812, 'winning': 813, 'divide': 814, 'nowhere': 815, 'instance': 816, 'pick': 817, 'logic': 818, 'street': 819, 'maker': 820, 'doubt': 821, 'shame': 822, 'wonderfully': 823, 'entirely': 824, 'opening': 825, 'deep': 826, 'sub': 827, 'force': 828, 'told': 829, 'confusing': 830, 'anyway': 831, 'okay': 832, 'gone': 833, 'ancient': 834, 'ranger': 835, 'hater': 836, 'thoroughly': 837, 'crime': 838, 'factor': 839, 'deserve': 840, 'solid': 841, 'straight': 842, 'thrilling': 843, 'spoiler': 844, 'various': 845, 'system': 846, 'hired': 847, 'handle': 848, 'disturbing': 849, 'fashion': 850, 'nominated': 851, 'attempt': 852, 'figure': 853, 'managed': 854, 'shik': 855, 'finale': 856, 'technical': 857, 'crafted': 858, 'keeping': 859, 'multi': 860, 'upper': 861, 'recent': 862, 'list': 863, 'four': 864, 'wide': 865, 'party': 866, 'ruin': 867, 'possibly': 868, 'wonder': 869, 'being': 870, 'imagine': 871, 'building': 872, '4': 873, 'latest': 874, 'to': 875, 'apartment': 876, 'somewhat': 877, 'utterly': 878, 'sick': 879, 'history': 880, 'chinese': 881, 'average': 882, '3': 883, 'appreciate': 884, 'impossible': 885, 'successful': 886, 'mentioned': 887, 'shock': 888, 'theatre': 889, 'exciting': 890, 'rock': 891, 'result': 892, 'fire': 893, 'once': 894, 'loud': 895, 'suddenly': 896, 'spend': 897, 'premise': 898, 'reality': 899, 'laughed': 900, 'humour': 901, 'scale': 902, 'explained': 903, 'biggest': 904, 'industry': 905, 'silly': 906, 'support': 907, 'conclusion': 908, 'general': 909, 'jump': 910, 'video': 911, 'neither': 912, 'yesterday': 913, 'night': 914, 'channel': 915, 'western': 916, 'kong': 917, 'is': 918, \"'parasite\": 919, 'bitter': 920, 'quickly': 921, 'team': 922, 'men': 923, 'indeed': 924, 'more': 925, 'tutoring': 926, 'relevant': 927, 'build': 928, 'subtle': 929, 'space': 930, 'built': 931, 'death': 932, 'eun': 933, 'bring': 934, 'secret': 935, 'because': 936, 'considering': 937, 'treat': 938, 'layered': 939, 'slowly': 940, 'ride': 941, 'pure': 942, 'science': 943, 'therapist': 944, 'leaf': 945, 'remains': 946, 'protagonist': 947, 'agree': 948, 'opposite': 949, 'unpredictable': 950, 'ji': 951, 'apart': 952, 'mrs': 953, 'break': 954, 'none': 955, 'information': 956, 'deserved': 957, 'music': 958, 'common': 959, 'total': 960, 'outside': 961, 'naive': 962, 'those': 963, 'pacing': 964, 'crew': 965, 'consequence': 966, 'tragedy': 967, 'pace': 968, 'choice': 969, 'sadly': 970, 'fails': 971, 'majority': 972, 'pas': 973, 'joo': 974, 'till': 975, 'complex': 976, 'beyond': 977, 'greatest': 978, 'while': 979, 'flawless': 980, 'deal': 981, 'filmed': 982, 'among': 983, 'explosion': 984, 'whatsoever': 985, 'dumb': 986, 'strange': 987, 'comic': 988, 'flow': 989, 'chemistry': 990, 'here': 991, 'escape': 992, 'explain': 993, 'compare': 994, 'mainly': 995, 'interested': 996, 'buraki': 997, 'amanda': 998, 'rent': 999, 'buy': 1000, 'flaw': 1001, 'moving': 1002, 'mystery': 1003, 'too': 1004, 'ended': 1005, 'perhaps': 1006, 'these': 1007, 'slightly': 1008, 'parent': 1009, 'worked': 1010, 'background': 1011, 'position': 1012, 'shift': 1013, 'running': 1014, 'fiction': 1015, 'portrayed': 1016, 'smell': 1017, 'han': 1018, 'deeper': 1019, 'inside': 1020, 'my': 1021, 'room': 1022, 'discus': 1023, 'positive': 1024, 'cover': 1025, 'lose': 1026, 'root': 1027, 'most': 1028, 'captivating': 1029, 'gripping': 1030, 'gisaengchung': 1031, 'statement': 1032, 'dad': 1033, 'asked': 1034, 'pleasure': 1035, 'deserving': 1036, 'cinematic': 1037, 'touch': 1038, 'three': 1039, 'again': 1040, 'third': 1041, 'up': 1042, 'biased': 1043, 'accolade': 1044, 'unbelievable': 1045, 'produce': 1046, 'wealth': 1047, 'both': 1048, 'aside': 1049, 'named': 1050, 'form': 1051, 'thanks': 1052, 'believable': 1053, 'are': 1054, 'semi': 1055, 'unrealistic': 1056, 'ultimately': 1057, 'showed': 1058, 'executed': 1059, 'beauty': 1060, 'control': 1061, 'packed': 1062, 'craft': 1063, 'admit': 1064, 'status': 1065, 'only': 1066, 'considered': 1067, 'actual': 1068, 'execution': 1069, 'stunning': 1070, 'supporting': 1071, 'brings': 1072, 'provoking': 1073, 'following': 1074, 'crazy': 1075, 'office': 1076, 'career': 1077, 'mark': 1078, 'constantly': 1079, 'hong': 1080, 'bother': 1081, 'magic': 1082, '8': 1083, 'extra': 1084, 'born': 1085, \"'the\": 1086, 'who': 1087, 'student': 1088, 'wanting': 1089, 'expensive': 1090, 'grade': 1091, 'post': 1092, 'delivered': 1093, 'scary': 1094, 'delivers': 1095, 'pointless': 1096, 'lover': 1097, 'month': 1098, 'compared': 1099, 'imagination': 1100, 'sit': 1101, 'news': 1102, 'ask': 1103, 'reincarnated': 1104, 'reporter': 1105, 'jack': 1106, 'brook': 1107, 'apparently': 1108, 'versus': 1109, 'preview': 1110, 'b': 1111, 'rocket': 1112, 'animation': 1113, 'breaking': 1114, '2013': 1115, 'paced': 1116, 'degree': 1117, 'technically': 1118, 'ton': 1119, 'success': 1120, 'talent': 1121, 'lucky': 1122, 'ladder': 1123, 'blame': 1124, 'precise': 1125, 'fail': 1126, 'truth': 1127, 'roll': 1128, 'realize': 1129, 'filmmaking': 1130, 'higher': 1131, 'capitalism': 1132, 'recognition': 1133, 'impressed': 1134, 'impoverished': 1135, 'similar': 1136, 'process': 1137, 'resentment': 1138, 'cultural': 1139, 'group': 1140, 'wan': 1141, 'cho': 1142, 'blind': 1143, 'famous': 1144, 'convincing': 1145, 'driver': 1146, 'trip': 1147, 'decision': 1148, 'complicated': 1149, 'answer': 1150, 'nail': 1151, 'motion': 1152, 'university': 1153, 'thrill': 1154, 'fresh': 1155, 'business': 1156, 'worry': 1157, 'door': 1158, 'target': 1159, 'teacher': 1160, 'hardly': 1161, 'climax': 1162, 'subject': 1163, 'dollar': 1164, 'unlike': 1165, 'normally': 1166, 'cheese': 1167, 'golden': 1168, 'marketing': 1169, 'hitchcock': 1170, 'category': 1171, 'fear': 1172, 'hyuk': 1173, 'dong': 1174, 'scam': 1175, 'employee': 1176, 'luxury': 1177, 'stick': 1178, 'eventually': 1179, 'driven': 1180, 'off': 1181, 'multiple': 1182, 'taste': 1183, 'dynamic': 1184, 'desire': 1185, 'moral': 1186, 'wild': 1187, 'gain': 1188, 'yeah': 1189, 'brother': 1190, 'absurd': 1191, 'birthday': 1192, 'humanity': 1193, 'bay': 1194, 'woman': 1195, 'scenario': 1196, 'hair': 1197, 'approach': 1198, 'poster': 1199, 'michael': 1200, 'awe': 1201, 'memory': 1202, 'surprisingly': 1203, 'reminds': 1204, 'thank': 1205, 'notch': 1206, 'japanese': 1207, 'exception': 1208, 'trick': 1209, 'episode': 1210, 'regard': 1211, 'core': 1212, 'shocking': 1213, 'immediately': 1214, 'pyo': 1215, 'die': 1216, 'dull': 1217, 'entertained': 1218, 'supposedly': 1219, 'interest': 1220, 'produced': 1221, 'setting': 1222, 'did': 1223, 'twice': 1224, 'laughter': 1225, 'soundtrack': 1226, 'angry': 1227, 'massive': 1228, 'earth': 1229, 'succeed': 1230, 'paid': 1231, 'combination': 1232, 'difficult': 1233, 'heaven': 1234, 'adventure': 1235, 'where': 1236, 'meant': 1237, 'text': 1238, 'blow': 1239, 'kinda': 1240, 'awkward': 1241, 'favor': 1242, 'book': 1243, 'mistake': 1244, 'military': 1245, 'lotr': 1246, 'destroying': 1247, 'flashback': 1248, 'walked': 1249, 'summer': 1250, 'retarded': 1251, 'yi': 1252, 'front': 1253, 'inconsistent': 1254, 'suspenseful': 1255, 'season': 1256, 'appeal': 1257, 'heavy': 1258, 'catch': 1259, 'romance': 1260, 'notice': 1261, 'surface': 1262, 'meritocracy': 1263, 'develop': 1264, 'afford': 1265, 'disaster': 1266, 'personal': 1267, 'involving': 1268, 'guard': 1269, 'continue': 1270, 'stage': 1271, 'unusual': 1272, 'intelligent': 1273, 'fired': 1274, 'boundary': 1275, 'popular': 1276, 'topic': 1277, 'late': 1278, 'manage': 1279, 'america': 1280, 'darkly': 1281, 'reveal': 1282, 'revelation': 1283, 'ahead': 1284, 'unforgettable': 1285, 'exceptional': 1286, 'placed': 1287, 'we': 1288, 'smarter': 1289, 'feed': 1290, 'bet': 1291, '2017': 1292, '2016': 1293, 'satirical': 1294, 'relationship': 1295, 'fake': 1296, 'pull': 1297, 'breath': 1298, 'wasted': 1299, 'appear': 1300, 'advantage': 1301, 'masterful': 1302, 'connection': 1303, 'genius': 1304, 'century': 1305, 'cult': 1306, 'cross': 1307, 'l': 1308, 'garbage': 1309, 'project': 1310, 'essentially': 1311, 'each': 1312, 'gem': 1313, 'gorgeous': 1314, 'became': 1315, 'drive': 1316, 'terrific': 1317, 'pain': 1318, 'unfair': 1319, 'division': 1320, 'differently': 1321, 'crossed': 1322, 'somewhere': 1323, 'paying': 1324, 'fool': 1325, 'desperation': 1326, 'relatable': 1327, 'account': 1328, 'leading': 1329, 'excitement': 1330, 'lie': 1331, 'combine': 1332, 'comedic': 1333, 'profound': 1334, 'artistic': 1335, 'expression': 1336, 'angle': 1337, 'recommended': 1338, 'translation': 1339, '2020': 1340, 'curious': 1341, 'bizarre': 1342, 'quiet': 1343, 'us': 1344, 'balance': 1345, 'barely': 1346, 'basic': 1347, 'movies': 1348, 'former': 1349, 'camera': 1350, 'frame': 1351, 'online': 1352, 'murder': 1353, 'shape': 1354, 'no': 1355, 'reaction': 1356, 'contrast': 1357, 'smoothly': 1358, 'greater': 1359, 'likely': 1360, 'necessary': 1361, 'twisted': 1362, 'such': 1363, 'personally': 1364, 'demand': 1365, 'kyung': 1366, 'survive': 1367, 'water': 1368, 'period': 1369, 'simplistic': 1370, 'correct': 1371, 'comparison': 1372, 'compelling': 1373, 'flying': 1374, 'hyped': 1375, '6': 1376, 'car': 1377, 'local': 1378, 'foot': 1379, 'early': 1380, 'disappointing': 1381, 'weird': 1382, 'cringe': 1383, 'blowing': 1384, 'bottom': 1385, 'eat': 1386, 'proper': 1387, 'backstory': 1388, 'forth': 1389, 'release': 1390, 'explanation': 1391, 'walking': 1392, 'atmosphere': 1393, 'suppose': 1394, 'plenty': 1395, 'par': 1396, 'mighty': 1397, 'brought': 1398, 'warrior': 1399, 'destiny': 1400, 'eragon': 1401, 'actress': 1402, 'lucas': 1403, 'dinosaur': 1404, 'shooting': 1405, 'walk': 1406, 'beach': 1407, 'trash': 1408, 'hurt': 1409, 'sucked': 1410, 'excited': 1411, 'unfold': 1412, 'other': 1413, 'conflict': 1414, 'consider': 1415, 'large': 1416, 'promise': 1417, 'climb': 1418, 'generous': 1419, 'grip': 1420, 'deeply': 1421, 'extraordinary': 1422, 'engaged': 1423, 'public': 1424, 'meaning': 1425, 'key': 1426, 'regardless': 1427, 'shed': 1428, 'chauffeur': 1429, 'realism': 1430, 'north': 1431, 'accept': 1432, 'sheer': 1433, 'body': 1434, 'hyae': 1435, 'address': 1436, 'darker': 1437, 'board': 1438, 'response': 1439, 'follows': 1440, 'performed': 1441, 'equal': 1442, 'pizza': 1443, 'typical': 1444, 'steal': 1445, 'hold': 1446, 'journey': 1447, 'condition': 1448, 'overseas': 1449, 'plausible': 1450, 'caught': 1451, 'talked': 1452, 'posing': 1453, 'shown': 1454, 'stereotype': 1455, 'impact': 1456, 'delivery': 1457, 'tech': 1458, 'wall': 1459, 'teenage': 1460, 'cunning': 1461, 'provide': 1462, 'sharp': 1463, 'described': 1464, 'trouble': 1465, 'seo': 1466, 'greed': 1467, 'transition': 1468, 'incident': 1469, 'twenty': 1470, 'joy': 1471, 'seoul': 1472, 'thrown': 1473, 'numerous': 1474, '20': 1475, 'glory': 1476, 'waiting': 1477, 'loser': 1478, 'ik': 1479, 'kevin': 1480, 'field': 1481, 'lying': 1482, 'sentence': 1483, 'natural': 1484, 'asking': 1485, 'seek': 1486, 'co': 1487, 'lifestyle': 1488, 'struggling': 1489, 'lighting': 1490, 'wise': 1491, 'tired': 1492, 'shallow': 1493, 'energy': 1494, 'drawn': 1495, 'won': 1496, 'moon': 1497, 'gwang': 1498, 'excess': 1499, 'husband': 1500, 'overlooked': 1501, 'manipulated': 1502, 'zero': 1503, 'damn': 1504, 'tiny': 1505, 'forced': 1506, 'extent': 1507, 'shocked': 1508, 'universal': 1509, 'joker': 1510, 'breathtaking': 1511, 'share': 1512, 'o': 1513, 'annoying': 1514, 'extreme': 1515, 'deliver': 1516, 'allegory': 1517, 'merely': 1518, 'understanding': 1519, 'headed': 1520, 'halfway': 1521, 'fairly': 1522, 'added': 1523, 'hoping': 1524, 'prove': 1525, 'anywhere': 1526, 'kick': 1527, 'released': 1528, 'composition': 1529, 'effortlessly': 1530, 'dimensional': 1531, 'land': 1532, 'playing': 1533, 'visually': 1534, 'exposition': 1535, 'nobody': 1536, 'lady': 1537, 'reviewer': 1538, 'applause': 1539, 'sudden': 1540, 'bored': 1541, 'began': 1542, 'current': 1543, 'fill': 1544, 'structure': 1545, 're': 1546, 'proud': 1547, 'rooting': 1548, 'planned': 1549, 'spectacular': 1550, 'showcase': 1551, 'masterfully': 1552, 'wondering': 1553, 'kill': 1554, 'usual': 1555, 'becoming': 1556, 'everyday': 1557, 'color': 1558, 'nearly': 1559, 'created': 1560, 'sneak': 1561, 'afterwards': 1562, 'ignore': 1563, 'shoot': 1564, 'her': 1565, 'wrote': 1566, 'direct': 1567, 'hundred': 1568, 'perspective': 1569, '7': 1570, 'producer': 1571, 'regret': 1572, 'studio': 1573, 'visuals': 1574, 'unless': 1575, 'protect': 1576, 'leaving': 1577, 'gon': 1578, 'cant': 1579, 'speaking': 1580, 'very': 1581, 'epic': 1582, 'ticket': 1583, 'directly': 1584, 'voice': 1585, 'antique': 1586, 'mythical': 1587, 'sitting': 1588, 'clichéd': 1589, 'warning': 1590, 'reptilian': 1591, 'craig': 1592, 'lizard': 1593, 'load': 1594, 'kendrick': 1595, 'embarrassed': 1596, 'helicopter': 1597, 'clichés': 1598, 'hear': 1599, 'everywhere': 1600, 'apache': 1601, 'wooden': 1602, 'excuse': 1603, 'plain': 1604, 'copy': 1605, 'coherent': 1606, 'napoleon': 1607, 'beer': 1608, 'count': 1609, 'chase': 1610, 'vague': 1611, 'insanely': 1612, 'amazingly': 1613, 'fault': 1614, 'gut': 1615, 'shoulder': 1616, 'ability': 1617, 'fascinating': 1618, 'fortune': 1619, 'represents': 1620, 'achieve': 1621, 'beneath': 1622, 'harder': 1623, 'rarely': 1624, 'invested': 1625, 'area': 1626, 'pack': 1627, 'private': 1628, 'club': 1629, 'global': 1630, 'indian': 1631, 'fancy': 1632, 'content': 1633, 'met': 1634, \"'em\": 1635, 'gear': 1636, '90': 1637, 'gloriously': 1638, 'infested': 1639, 'servant': 1640, 'express': 1641, 'utter': 1642, 'contempt': 1643, 'empty': 1644, 'paint': 1645, 'cruel': 1646, 'west': 1647, 'asia': 1648, 'assume': 1649, 'warfare': 1650, 'remove': 1651, 'staff': 1652, 'rain': 1653, 'titanic': 1654, 'collection': 1655, 'musical': 1656, 'blend': 1657, 'manner': 1658, 'economic': 1659, 'meticulously': 1660, 'tonal': 1661, 'storyteller': 1662, 'impactful': 1663, 'store': 1664, 'camping': 1665, 'length': 1666, 'latter': 1667, 'guessing': 1668, 'altogether': 1669, 'earlier': 1670, 'duration': 1671, 'filthy': 1672, 'spectrum': 1673, 'identity': 1674, 'study': 1675, 'developing': 1676, 'likeable': 1677, 'air': 1678, 'material': 1679, 'cleverly': 1680, 'employed': 1681, 'qualified': 1682, 'proceeds': 1683, 'surreal': 1684, 'succeeds': 1685, 'inevitable': 1686, 'crack': 1687, 'cramped': 1688, 'shelf': 1689, 'exam': 1690, 'ceo': 1691, 'attractive': 1692, 'hyun': 1693, 'jun': 1694, 'ruthless': 1695, 'convince': 1696, 'employment': 1697, 'drink': 1698, 'spoil': 1699, 'prejudice': 1700, 'hysterical': 1701, 'talented': 1702, 'technique': 1703, 'constructed': 1704, 'recall': 1705, 'speak': 1706, 'blood': 1707, 'planet': 1708, 'privileged': 1709, 'service': 1710, 'component': 1711, 'skip': 1712, 'access': 1713, 'welcome': 1714, 'ingenious': 1715, 'watchable': 1716, 'developed': 1717, 'shady': 1718, 'advice': 1719, 'astonishing': 1720, 'french': 1721, 'table': 1722, 'served': 1723, 'tarantino': 1724, 'of': 1725, 'odd': 1726, 'medium': 1727, 'speaks': 1728, 'benefit': 1729, 'learn': 1730, 'flat': 1731, 'pretend': 1732, 'residence': 1733, 'unlikely': 1734, 'comical': 1735, 'sake': 1736, 'generally': 1737, 'calling': 1738, 'anti': 1739, 'justified': 1740, 'predictable': 1741, 'vacation': 1742, 'celebrate': 1743, 'loses': 1744, 'humorous': 1745, 'clash': 1746, 'wit': 1747, 'gradually': 1748, 'impression': 1749, 'food': 1750, 'grand': 1751, 'criminal': 1752, 'menacing': 1753, 'inspired': 1754, 'cute': 1755, 'bright': 1756, 'mom': 1757, 'initially': 1758, 'sensible': 1759, 'serve': 1760, 'at': 1761, 'helpless': 1762, '000': 1763, 'carry': 1764, 'prize': 1765, 'whoever': 1766, 'their': 1767, 'movement': 1768, 'earned': 1769, 'hooked': 1770, 'oldboy': 1771, 'initial': 1772, 'finished': 1773, 'seamlessly': 1774, 'generation': 1775, 'quick': 1776, 'transformation': 1777, 'verdict': 1778, 'match': 1779, 'beast': 1780, 'seemingly': 1781, 'helped': 1782, 'genuine': 1783, 'contender': 1784, 'peach': 1785, '1917': 1786, 'introduced': 1787, 'seven': 1788, 'wasting': 1789, 'toward': 1790, 'gullible': 1791, 'analysis': 1792, 'witty': 1793, 'occasion': 1794, 'horribly': 1795, 'react': 1796, 'site': 1797, 'which': 1798, 'harsh': 1799, 'justify': 1800, 'abroad': 1801, 'claim': 1802, 'imagery': 1803, 'portrayal': 1804, 'forever': 1805, 'illogical': 1806, 'listen': 1807, 'seldom': 1808, 'fate': 1809, 'manipulation': 1810, 'involved': 1811, 'round': 1812, 'ambitious': 1813, 'random': 1814, 'richness': 1815, 'whose': 1816, 'elite': 1817, 'depicted': 1818, 'lighthearted': 1819, 'department': 1820, 'starting': 1821, 'cartoonish': 1822, 'inducing': 1823, 'putting': 1824, 'barrier': 1825, 'vs': 1826, 'supported': 1827, 'grab': 1828, 'synopsis': 1829, 'respective': 1830, 'capture': 1831, 'invasion': 1832, 'native': 1833, 'roller': 1834, 'coaster': 1835, 'sea': 1836, 'complaint': 1837, 'sent': 1838, 'insert': 1839, 'description': 1840, 'folk': 1841, 'cold': 1842, 'individual': 1843, 'image': 1844, 'weekend': 1845, 'before': 1846, 'blur': 1847, 'sympathy': 1848, 'willing': 1849, 'wont': 1850, 'doe': 1851, 'p': 1852, 'nolan': 1853, 'serf': 1854, 'ugly': 1855, 'symbolism': 1856, 'evident': 1857, 'consideration': 1858, 'annoyed': 1859, 'gotten': 1860, 'tragic': 1861, 'mysterious': 1862, 'metaphorical': 1863, '1000': 1864, 'gap': 1865, 'screening': 1866, 'conversation': 1867, 'she': 1868, 'clean': 1869, 'familiar': 1870, 'anxiety': 1871, 'magical': 1872, 'particularly': 1873, 'model': 1874, 'innovative': 1875, 'convey': 1876, 'lacking': 1877, 'unnecessary': 1878, 'anime': 1879, 'pathetic': 1880, 'record': 1881, 'grown': 1882, 'picked': 1883, 'limited': 1884, 'nevertheless': 1885, 'dragged': 1886, 'therefore': 1887, 'switch': 1888, 'falling': 1889, 'adding': 1890, 'rushed': 1891, 'police': 1892, 'destined': 1893, 'translated': 1894, 'cliché': 1895, 'popcorn': 1896, 'nephew': 1897, 'independence': 1898, 'incomprehensible': 1899, 'user': 1900, 'virtually': 1901, 'includes': 1902, 'bomb': 1903, 'morning': 1904, 'robinson': 1905, 'romantic': 1906, '50': 1907, 'saved': 1908, 'criticize': 1909, 'european': 1910, 'jackson': 1911, '2007': 1912, 'copied': 1913, 'national': 1914, 'saturday': 1915, 'george': 1916, 'peter': 1917, 'fest': 1918, 'thats': 1919, 'soldier': 1920, 'starter': 1921, 'boyfriend': 1922, 'rented': 1923, 'horrid': 1924, 'dustbin': 1925, 'search': 1926, 'atrox': 1927, 'baby': 1928, 'fell': 1929, 'documentary': 1930, 'remark': 1931, 'anyways': 1932, 'liner': 1933, 'failure': 1934, \"'d\": 1935, 'brown': 1936, 'oriental': 1937, 'village': 1938, 'haram': 1939, 'artox': 1940, 'tty': 1941, 'idiotic': 1942, 'remarkably': 1943, 'progress': 1944, '132': 1945, 'runtime': 1946, 'heartbreaking': 1947, 'understandable': 1948, 'sympathetic': 1949, 'amount': 1950, 'derived': 1951, 'them': 1952, 'cake': 1953, 'throat': 1954, 'rewatch': 1955, 'according': 1956, 'determination': 1957, 'rise': 1958, 'mountain': 1959, 'competition': 1960, 'deceit': 1961, 'reach': 1962, 'leap': 1963, 'luck': 1964, 'refers': 1965, 'meaningful': 1966, 'emotionally': 1967, 'intimate': 1968, 'suffice': 1969, 'population': 1970, 'size': 1971, 'united': 1972, 'skyscraper': 1973, 'hiring': 1974, 'lived': 1975, 'taught': 1976, 'learning': 1977, 'six': 1978, 'soccer': 1979, 'bar': 1980, 'heavily': 1981, 'planning': 1982, 'basis': 1983, 'eating': 1984, 'viewed': 1985, 'context': 1986, 'stealing': 1987, 'labour': 1988, 'expense': 1989, 'mood': 1990, 'gosh': 1991, 'tear': 1992, 'buddy': 1993, 'passing': 1994, '14': 1995, 'charge': 1996, 'convinced': 1997, 'repetitive': 1998, 'worldwide': 1999, 'properly': 2000, 'painful': 2001, 'aware': 2002, 'mass': 2003, 'rooted': 2004, 'chang': 2005, 'garden': 2006, 'creating': 2007, 'maintained': 2008, 'grounded': 2009, 'nicely': 2010, 'intelligence': 2011, 'widely': 2012, 'crafting': 2013, 'lavish': 2014, 'web': 2015, 'thin': 2016, 'disparity': 2017, 'tip': 2018, 'dawn': 2019, 'explored': 2020, 'boon': 2021, 'slum': 2022, 'visit': 2023, 'architect': 2024, 'spoiling': 2025, 'span': 2026, 'allowed': 2027, 'variety': 2028, 'hence': 2029, 'blue': 2030, 'favour': 2031, 'antagonist': 2032, 'laid': 2033, 'immersed': 2034, 'underneath': 2035, 'stronger': 2036, 'intricate': 2037, 'unrelated': 2038, 'individuals': 2039, 'strict': 2040, 'rank': 2041, 'depicts': 2042, 'increasingly': 2043, 'characterization': 2044, 'repeatedly': 2045, 'entrance': 2046, 'fold': 2047, 'wi': 2048, 'shop': 2049, 'spacious': 2050, 'protected': 2051, 'fragile': 2052, 'tiger': 2053, 'suited': 2054, 'document': 2055, 'hire': 2056, 'compassion': 2057, 'worker': 2058, 'revenge': 2059, 'bloody': 2060, 'sharing': 2061, 'teen': 2062, 'parable': 2063, 'flawlessly': 2064, 'guild': 2065, 'amusing': 2066, 'exercise': 2067, 'excellence': 2068, 'fabulous': 2069, 'spill': 2070, 'survival': 2071, 'beat': 2072, 'lousy': 2073, 'dish': 2074, 'tend': 2075, 'resourceful': 2076, 'bank': 2077, 'consists': 2078, 'jackie': 2079, 'moved': 2080, 'sinking': 2081, 'prestigious': 2082, 'split': 2083, 'casting': 2084, 'british': 2085, 'globe': 2086, 'selected': 2087, 'alfred': 2088, 'motif': 2089, 'quentin': 2090, 'climate': 2091, 'bite': 2092, 'thread': 2093, 'separation': 2094, 'outcome': 2095, 'improve': 2096, 'crease': 2097, 'striking': 2098, 'fallen': 2099, 'existing': 2100, 'beforehand': 2101, 'detailed': 2102, 'letting': 2103, 'timely': 2104, 'sneaky': 2105, 'evolve': 2106, 'through': 2107, 'recommends': 2108, 'ad': 2109, 'considerable': 2110, 'guilty': 2111, 'amongst': 2112, 'evidence': 2113, 'tradition': 2114, 'custom': 2115, 'credibility': 2116, 'clap': 2117, 'mindset': 2118, 'unfolds': 2119, 'grabbing': 2120, 'entry': 2121, 'housemaid': 2122, 'contact': 2123, 'portrays': 2124, 'replace': 2125, 'mansion': 2126, 'creepy': 2127, 'spin': 2128, 'purchased': 2129, 'grateful': 2130, 'sequel': 2131, 'range': 2132, 'sharply': 2133, 'refuse': 2134, 'held': 2135, 'disdain': 2136, 'wtf': 2137, 'asks': 2138, 'occurs': 2139, 'interview': 2140, 'gig': 2141, 'naïve': 2142, 'explores': 2143, 'authentic': 2144, 'borrowed': 2145, 'rendered': 2146, 'survived': 2147, 'scammer': 2148, 'experienced': 2149, 'organized': 2150, 'minority': 2151, 'minutes': 2152, 'standing': 2153, 'stake': 2154, 'weight': 2155, 'ingredient': 2156, 'forgettable': 2157, 'ripped': 2158, 'victim': 2159, 'nose': 2160, 'dramatically': 2161, 'transforms': 2162, 'words': 2163, 'sufficient': 2164, 'blown': 2165, 'raw': 2166, 'mastery': 2167, 'prof': 2168, 'safe': 2169, 'g': 2170, 'reward': 2171, 'curveball': 2172, 'destroys': 2173, 'crowd': 2174, 'priceless': 2175, 'filmography': 2176, 'relax': 2177, 'income': 2178, 'weed': 2179, 'anytime': 2180, 'deservedly': 2181, 'jumping': 2182, 'coen': 2183, 'broad': 2184, 'vision': 2185, 'laced': 2186, 'code': 2187, 'distinct': 2188, 'strongly': 2189, 'mixed': 2190, 'established': 2191, 'vein': 2192, 'ensure': 2193, 'pre': 2194, 'highlight': 2195, 'mentally': 2196, 'glued': 2197, 'mouth': 2198, 'observed': 2199, 'thoughtful': 2200, 'upset': 2201, 'awhile': 2202, 'subtitled': 2203, 'indicated': 2204, 'owner': 2205, 'affect': 2206, 'admittedly': 2207, 'generic': 2208, 'cinematographer': 2209, 'lol': 2210, 'recipient': 2211, 'years': 2212, 'likable': 2213, 'pitch': 2214, 'trend': 2215, 'grace': 2216, 'ridiculously': 2217, 'bound': 2218, 'string': 2219, 'stupidity': 2220, 'effectively': 2221, 'changed': 2222, 'despair': 2223, 'entirety': 2224, 'phenomenal': 2225, 'roles': 2226, 'delivering': 2227, 'realise': 2228, 'nuance': 2229, 'expose': 2230, 'currently': 2231, 'ups': 2232, 'forgotten': 2233, 'recommendation': 2234, 'tonight': 2235, 'ceremony': 2236, 'mum': 2237, 'ziso': 2238, 'exploration': 2239, 'location': 2240, 'riveting': 2241, 'liking': 2242, 'e': 2243, 'wave': 2244, 'political': 2245, 'haunting': 2246, 'gruesome': 2247, 'dangerous': 2248, 'gift': 2249, 'remind': 2250, 'maintain': 2251, 'tank': 2252, 'rule': 2253, 'internet': 2254, 'signal': 2255, 'older': 2256, 'lined': 2257, 'zone': 2258, 'measure': 2259, 'shut': 2260, 'provoked': 2261, 'symbol': 2262, 'preachy': 2263, 'intriguing': 2264, 'neat': 2265, 'continuity': 2266, 'surrounding': 2267, 'can': 2268, 'date': 2269, 'me': 2270, 'subtlety': 2271, 'w': 2272, 'circumstance': 2273, 'elaborate': 2274, 'depending': 2275, 'strike': 2276, 'unfolding': 2277, 'chaotic': 2278, 'equally': 2279, 'decides': 2280, 'critical': 2281, 'tour': 2282, 'pic': 2283, 'struck': 2284, 'friendly': 2285, 'quirky': 2286, 'shoplifter': 2287, 'physically': 2288, 'precisely': 2289, 'flooded': 2290, 'offering': 2291, 'poignant': 2292, 'ultimate': 2293, 'mask': 2294, 'tough': 2295, 'welcomed': 2296, 'wildly': 2297, 'refreshing': 2298, 'argue': 2299, 'dry': 2300, 'replaced': 2301, 'rip': 2302, 'comparing': 2303, 'casablanca': 2304, 'knee': 2305, 'longer': 2306, 'recognized': 2307, 'capitalist': 2308, 'tune': 2309, 'scheming': 2310, 'wealthier': 2311, 'skin': 2312, 'stairway': 2313, 'dare': 2314, 'awarded': 2315, 'price': 2316, 'releasing': 2317, 'jae': 2318, 'il': 2319, 'classical': 2320, 'belong': 2321, 'scared': 2322, 'streaming': 2323, 'stated': 2324, 'essential': 2325, 'exact': 2326, 'sensibility': 2327, 'triumph': 2328, 'rant': 2329, 'chair': 2330, 'neighbourhood': 2331, 'outs': 2332, 'missed': 2333, 'plane': 2334, 'eyed': 2335, 'memorable': 2336, 'afraid': 2337, 'dive': 2338, 'rightfully': 2339, 'remotely': 2340, 'claimed': 2341, 'logical': 2342, 'caused': 2343, 'down': 2344, 'denied': 2345, 'ignorant': 2346, 'ready': 2347, 'sparse': 2348, 'dye': 2349, 'explains': 2350, 'silent': 2351, 'finding': 2352, 'opened': 2353, 'growing': 2354, 'revolution': 2355, '2001': 2356, 'bigger': 2357, 'skill': 2358, 'burned': 2359, 'pointed': 2360, 'losing': 2361, 'send': 2362, 'wizard': 2363, 'times': 2364, 'taken': 2365, 'nowadays': 2366, 'hopefully': 2367, 'creates': 2368, 'bridge': 2369, 'dissapoint': 2370, 'intentional': 2371, 'loss': 2372, 'succeeded': 2373, 'coolly': 2374, 'stricken': 2375, 'explosive': 2376, 'choose': 2377, 'dead': 2378, 'younger': 2379, 'tight': 2380, 'enthralling': 2381, 'cash': 2382, 'greek': 2383, 'terribly': 2384, 'nonsense': 2385, 'enormous': 2386, 'worried': 2387, 'spoken': 2388, 'appeared': 2389, 'origin': 2390, 'credible': 2391, 'overly': 2392, 'warned': 2393, 'peak': 2394, 'dont': 2395, 'grow': 2396, 'dy': 2397, 'provided': 2398, 'noms': 2399, 'critique': 2400, 'formula': 2401, 'casted': 2402, 'mid': 2403, 'complain': 2404, 'advanced': 2405, 'dire': 2406, 'destroyed': 2407, 'incompetent': 2408, 'sane': 2409, 'sympathize': 2410, 'turning': 2411, 'convoluted': 2412, 'pulling': 2413, 'mainstream': 2414, 'intellectual': 2415, 'volume': 2416, 'technology': 2417, 'adaptation': 2418, 'showdown': 2419, 'product': 2420, 'reptile': 2421, 'sfx': 2422, 'presentation': 2423, 'corny': 2424, 'pile': 2425, 'mordor': 2426, 'screaming': 2427, 'mindless': 2428, 'cave': 2429, 'porno': 2430, 'eastern': 2431, 'frankly': 2432, 'forester': 2433, 'tv': 2434, 'granted': 2435, 'dozen': 2436, 'shamelessly': 2437, 'fifteen': 2438, 'roswell': 2439, 'laughably': 2440, 'girlfriend': 2441, 'choppy': 2442, 'lazy': 2443, 'stardust': 2444, 'forgive': 2445, 'insane': 2446, 'gigantic': 2447, 'wind': 2448, 'arm': 2449, 'popping': 2450, 'harry': 2451, 'potter': 2452, 'lobby': 2453, 'spirit': 2454, 'defense': 2455, 'narration': 2456, 'hideous': 2457, 'curse': 2458, 'bought': 2459, 'suit': 2460, 'spiderman': 2461, 'aimed': 2462, 'culturally': 2463, 'matrix': 2464, 'stopped': 2465, 'reincarnation': 2466, 'fighter': 2467, 'laughable': 2468, 'goof': 2469, 'sat': 2470, 'died': 2471, 'fly': 2472, 'professional': 2473, 'cup': 2474, 'dropped': 2475, 'fifa': 2476, 'mega': 2477, 'kiss': 2478, 'fbi': 2479, 'counter': 2480, 'cartoon': 2481, 'costume': 2482, 'during': 2483, 'redeeming': 2484, 'worthwhile': 2485, 'confuse': 2486, 'policeman': 2487, 'cannon': 2488, 'chased': 2489, 'fair': 2490, 'had': 2491, 'veteran': 2492, 'disagree': 2493, 'unknown': 2494, 'attacking': 2495, 'chasing': 2496, 'hated': 2497, 'patriotism': 2498, 'koreans': 2499, 'cgs': 2500, 'criticized': 2501, 'unaware': 2502, 'danger': 2503, 'pride': 2504, 'accomplish': 2505, 'does': 2506, 'killing': 2507, 'gay': 2508, 'yonggary': 2509, 'surgery': 2510, 'mad': 2511, 'blah': 2512, 'eaten': 2513, 'killed': 2514, 'yuh': 2515, 'protector': 2516, 'hey': 2517, 'herzog': 2518, 'anybody': 2519, 'sacrificed': 2520, 'incoherent': 2521, 'quit': 2522, 'bourne': 2523, 'ultimatum': 2524, 'launcher': 2525, 'sole': 2526, 'appealing': 2527, 'acknowledge': 2528, 'tonally': 2529, 'icing': 2530, 'expands': 2531, 'suspect': 2532, 'cinderella': 2533, 'height': 2534, 'desired': 2535, 'sunshine': 2536, 'justification': 2537, 'crooked': 2538, 'secure': 2539, 'climbed': 2540, 'kicked': 2541, 'staring': 2542, 'carefully': 2543, 'treated': 2544, 'plotted': 2545, 'slick': 2546, 'insight': 2547, 'smaller': 2548, 'education': 2549, 'signing': 2550, 'piano': 2551, 'math': 2552, 'slept': 2553, 'mere': 2554, 'specter': 2555, 'dreaming': 2556, 'whim': 2557, 'sewage': 2558, 'whenever': 2559, 'assumption': 2560, 'closing': 2561, 'between': 2562, 'engage': 2563, 'develops': 2564, 'providing': 2565, 'exchange': 2566, 'handsome': 2567, 'timing': 2568, 'darn': 2569, 'bone': 2570, 'foundation': 2571, 'accepting': 2572, 'clueless': 2573, 'psychologist': 2574, 'cook': 2575, 'abruptly': 2576, 'symbolic': 2577, 'york': 2578, 'struggled': 2579, 'stark': 2580, 'miserable': 2581, 'china': 2582, 'urban': 2583, 'bug': 2584, 'crafty': 2585, 'employing': 2586, 'rac': 2587, 'ist': 2588, 'boil': 2589, 'east': 2590, 'bashing': 2591, 'allowing': 2592, 'condescension': 2593, 'miserably': 2594, 'cheer': 2595, 'bias': 2596, 'principle': 2597, 'wickedly': 2598, 'teach': 2599, 'smile': 2600, 'charming': 2601, 'upside': 2602, 'complementing': 2603, 'eccentricity': 2604, 'crisp': 2605, 'imposing': 2606, 'jordan': 2607, 'peele': 2608, 'believability': 2609, 'central': 2610, 'guise': 2611, 'lighter': 2612, 'fare': 2613, 'twisty': 2614, 'calculated': 2615, 'bgm': 2616, 'argument': 2617, 'empire': 2618, 'scholar': 2619, 'ideology': 2620, 'equality': 2621, 'viewpoint': 2622, 'challenging': 2623, 'explore': 2624, 'youngest': 2625, 'drinking': 2626, 'revolve': 2627, 'grey': 2628, 'conning': 2629, 'lean': 2630, 'prime': 2631, 'starving': 2632, 'noticed': 2633, 'has': 2634, 'classify': 2635, 'specific': 2636, 'decline': 2637, 'adore': 2638, 'comfortably': 2639, 'finest': 2640, 'portion': 2641, 'hitchcockian': 2642, 'rid': 2643, 'wrap': 2644, 'payoff': 2645, 'frequent': 2646, 'messed': 2647, 'subpar': 2648, 'surpassed': 2649, 'fella': 2650, 'inherent': 2651, 'invisible': 2652, 'brush': 2653, 'amenity': 2654, 'toilet': 2655, 'debt': 2656, 'train': 2657, 'busan': 2658, 'knight': 2659, 'fumigator': 2660, 'extermination': 2661, 'coffee': 2662, 'rage': 2663, 'attitude': 2664, 'grifter': 2665, 'aid': 2666, 'forge': 2667, 'conquest': 2668, 'loyal': 2669, 'hardworking': 2670, 'scammed': 2671, 'backfire': 2672, 'implausible': 2673, 'bed': 2674, 'mayhem': 2675, 'inequality': 2676, 'remembering': 2677, 'starring': 2678, 'hoon': 2679, 'geun': 2680, 'aged': 2681, 'deceives': 2682, 'prosperous': 2683, 'ingratiating': 2684, 'packaged': 2685, 'elegance': 2686, 'grasp': 2687, 'cerebral': 2688, 'hugely': 2689, 'shining': 2690, '21st': 2691, 'defined': 2692, 'definition': 2693, 'confined': 2694, 'fable': 2695, 'guest': 2696, 'dysfunctional': 2697, 'scientist': 2698, 'road': 2699, 'personified': 2700, 'traditional': 2701, 'machine': 2702, 'kung': 2703, 'chan': 2704, 'holding': 2705, 'teeth': 2706, 'cinematographic': 2707, 'recently': 2708, 'rewarded': 2709, 'insignificant': 2710, 'covered': 2711, 'industrial': 2712, '10i': 2713, 'double': 2714, 'infiltrating': 2715, 'hesitant': 2716, 'labor': 2717, 'leech': 2718, 'reminiscent': 2719, 'nod': 2720, 'stair': 2721, 'brief': 2722, 'estimated': 2723, 'include': 2724, 'nuclear': 2725, 'mental': 2726, 'illness': 2727, 'observation': 2728, 'emma': 2729, 'snobbery': 2730, 'succession': 2731, 'plotting': 2732, 'disregard': 2733, 'obsessed': 2734, 'iron': 2735, 'parasites': 2736, 'organism': 2737, 'specie': 2738, 'behold': 2739, 'skilled': 2740, 'prey': 2741, 'bare': 2742, 'heap': 2743, 'inveigle': 2744, 'followed': 2745, 'revealed': 2746, 'partially': 2747, 'broken': 2748, 'arrive': 2749, 'fetched': 2750, 'ingenuity': 2751, 'pity': 2752, 'dedicated': 2753, 'creatively': 2754, 'impressively': 2755, 'supply': 2756, 'forged': 2757, 'gyo': 2758, 'veronica': 2759, 'predict': 2760, 'finishing': 2761, 'juxtaposed': 2762, 'required': 2763, 'downtrodden': 2764, 'cancel': 2765, 'celebrity': 2766, 'suffers': 2767, 'titular': 2768, 'entitled': 2769, 'perverse': 2770, 'boast': 2771, 'relate': 2772, 'unfortunate': 2773, 'redemption': 2774, 'hat': 2775, 'flood': 2776, 'behavior': 2777, 'picking': 2778, 'stone': 2779, 'lovely': 2780, 'biting': 2781, 'awards': 2782, 'convinces': 2783, 'creativity': 2784, 'mixture': 2785, 'infiltrate': 2786, 'questionable': 2787, 'speechless': 2788, 'philosophical': 2789, 'discussion': 2790, 'canadian': 2791, 'prequels': 2792, 'correctly': 2793, 'false': 2794, 'earning': 2795, 'ample': 2796, 'aptly': 2797, 'petty': 2798, 'spiked': 2799, 'shade': 2800, 'ethical': 2801, 'personality': 2802, 'devoted': 2803, 'immoral': 2804, 'dignity': 2805, 'worm': 2806, 'sardonic': 2807, 'overwhelmed': 2808, 'visionary': 2809, 'genuinely': 2810, 'innocent': 2811, 'construct': 2812, 'insinuate': 2813, 'unhappy': 2814, 'graduate': 2815, 'pose': 2816, 'cousin': 2817, 'jessica': 2818, 'imposter': 2819, 'riddled': 2820, 'spiral': 2821, 'macabre': 2822, 'speed': 2823, 'inventive': 2824, 'fringe': 2825, 'wreck': 2826, 'catharsis': 2827, 'hopeless': 2828, 'overnight': 2829, 'expert': 2830, 'conned': 2831, 'stereotyped': 2832, 'skillful': 2833, 'psychology': 2834, 'ovation': 2835, 'handmaiden': 2836, 'sucker': 2837, 'same': 2838, 'willingly': 2839, 'manipulate': 2840, '0': 2841, 'pocket': 2842, 'naturalistic': 2843, 'bluntly': 2844, 'netflix': 2845, 'skipping': 2846, 'forgot': 2847, 'shameless': 2848, 'noticeable': 2849, 'standouts': 2850, 'jaeil': 2851, 'inserted': 2852, 'morphing': 2853, 'prepare': 2854, 'treasure': 2855, 'suggest': 2856, 'studied': 2857, 'trade': 2858, 'honesty': 2859, 'wholeheartedly': 2860, 'm': 2861, 'disgrace': 2862, 'sorrow': 2863, 'lure': 2864, 'marvel': 2865, 'pleasantly': 2866, 'advise': 2867, 'discover': 2868, 'fourth': 2869, 'apparent': 2870, 'hustler': 2871, 'compass': 2872, 'depressing': 2873, 'executes': 2874, 'weary': 2875, 'utilized': 2876, 'noticing': 2877, 'hall': 2878, 'regarded': 2879, 'under': 2880, 'sits': 2881, 'allows': 2882, 'weave': 2883, 'loaded': 2884, 'unnerving': 2885, 'scored': 2886, 'pale': 2887, 'exhilarating': 2888, 'goers': 2889, 'accessible': 2890, 'contemporary': 2891, 'pop': 2892, 'gritty': 2893, 'ease': 2894, 'unfolded': 2895, 'raised': 2896, 'practically': 2897, 'confidence': 2898, 'edit': 2899, 'satisfactorily': 2900, 'stretch': 2901, 'snatch': 2902, 'accompanying': 2903, 'travel': 2904, 'replacement': 2905, 'k': 2906, 'unconventional': 2907, 'motive': 2908, 'brazil': 2909, 'newest': 2910, 'disappoint': 2911, 'rail': 2912, 'palm': 2913, 'ecstatic': 2914, 'respond': 2915, 'startling': 2916, 'achieved': 2917, 'erratic': 2918, 'crescendo': 2919, 'definite': 2920, 'prefer': 2921, 'delightful': 2922, 'slight': 2923, 'deception': 2924, 'deft': 2925, 'relatively': 2926, 'composed': 2927, 'tool': 2928, 'conflicted': 2929, 'careful': 2930, 'chaos': 2931, 'unbiased': 2932, 'praised': 2933, 'rollercoaster': 2934, 'whilst': 2935, 'motivation': 2936, 'downright': 2937, 'aesthetic': 2938, 'knife': 2939, 'arrives': 2940, 'alongside': 2941, 'hint': 2942, 'presented': 2943, 'sincere': 2944, 'represent': 2945, 'article': 2946, 'blank': 2947, 'digest': 2948, 'naturally': 2949, 'originality': 2950, 'pro': 2951, 'creep': 2952, 'parents': 2953, 'depiction': 2954, 'hopeful': 2955, 'christian': 2956, 'clothes': 2957, \"'film\": 2958, 'ism': 2959, 'pitted': 2960, \"haven'ts\": 2961, 'magnitude': 2962, 'deluge': 2963, 'fame': 2964, 'depict': 2965, 'holy': 2966, 'ridiculousness': 2967, 'fellow': 2968, 'gentle': 2969, 'twilight': 2970, 'farewell': 2971, 'faster': 2972, 'calibre': 2973, 'ken': 2974, 'gripe': 2975, 'titles': 2976, 'appreciation': 2977, '6th': 2978, 'hustle': 2979, 'inspiring': 2980, 'fierce': 2981, 'settle': 2982, 'societal': 2983, 'setup': 2984, 'flawed': 2985, 'instantly': 2986, 'pulled': 2987, 'disconnected': 2988, 'undoubtedly': 2989, 'rhythm': 2990, 'parts': 2991, 'processing': 2992, 'snuff': 2993, 'clan': 2994, 'descent': 2995, 'domicile': 2996, 'unsatisfying': 2997, 'contrasting': 2998, 'defy': 2999, 'scream': 3000, 'portrait': 3001, 'draw': 3002, 'debut': 3003, 'ham': 3004, 'fisted': 3005, 'relegated': 3006, 'performer': 3007, 'besides': 3008, 'bumbling': 3009, 'predecessor': 3010, 'immediacy': 3011, 'beside': 3012, 'misfortune': 3013, 'thus': 3014, 'evaluate': 3015, 'knocked': 3016, 'revealing': 3017, 'discovery': 3018, 'touting': 3019, 'amateur': 3020, 'legit': 3021, 'ignorance': 3022, 'encourage': 3023, 'significance': 3024, 'timeless': 3025, 'innocuous': 3026, 'escalating': 3027, 'targeting': 3028, 'remain': 3029, 'semblance': 3030, 'dissects': 3031, 'delicious': 3032, 'allergy': 3033, 'wifi': 3034, 'hunting': 3035, 'endearing': 3036, 'jarring': 3037, 'broke': 3038, 'dog': 3039, 'godfather': 3040, 'wet': 3041, 'congratulation': 3042, 'avoiding': 3043, 'disapproving': 3044, '60': 3045, 'neck': 3046, 'recover': 3047, 'rapt': 3048, 'capability': 3049, 'loving': 3050, 'evolves': 3051, 'sold': 3052, 'distributor': 3053, 'unravel': 3054, 'underground': 3055, 'lane': 3056, 'causing': 3057, 'surpass': 3058, 'unreal': 3059, 'dig': 3060, 'section': 3061, 'prior': 3062, 'repeat': 3063, 'yang': 3064, 'j': 3065, 'inception': 3066, 'whereas': 3067, 'wistful': 3068, 'rom': 3069, 'com': 3070, 'lanthimos': 3071, 'judgment': 3072, 'via': 3073, 'kudos': 3074, 'polished': 3075, 'driving': 3076, 'resounding': 3077, 'gusto': 3078, 'reputation': 3079, 'awaited': 3080, 'intricacy': 3081, 'magnum': 3082, 'opus': 3083, 'closer': 3084, 'irishman': 3085, 'contrasted': 3086, 'jaw': 3087, '2006': 3088, 'specifically': 3089, 'budgeted': 3090, 'brim': 3091, 'vastly': 3092, 'furthermore': 3093, 'importantly': 3094, 'shake': 3095, 'overcome': 3096, 'stood': 3097, 'patriarch': 3098, 'him': 3099, 'heading': 3100, 'inch': 3101, 'ignoring': 3102, 'understood': 3103, 'rotten': 3104, 'sly': 3105, 'attach': 3106, 'marrow': 3107, 'hearing': 3108, 'premiered': 3109, 'naivety': 3110, 'meanwhile': 3111, 'blindly': 3112, 'drunk': 3113, 'financially': 3114, 'arriving': 3115, 'amazed': 3116, 'dreamed': 3117, 'artwork': 3118, 'collect': 3119, 'pin': 3120, 'embodying': 3121, 'learns': 3122, 'spot': 3123, 'buying': 3124, 'sublime': 3125, 'instant': 3126, 'command': 3127, 'kitchen': 3128, 'magnificent': 3129, 'escalate': 3130, 'firstly': 3131, 'display': 3132, 'rampant': 3133, 'representative': 3134, 'coalesce': 3135, 'morality': 3136, 'greedy': 3137, 'exists': 3138, 'green': 3139, 'mile': 3140, 'odyssey': 3141, 'stratification': 3142, 'error': 3143, 'honor': 3144, 'powerhouse': 3145, 'bruce': 3146, 'eloquent': 3147, 'impress': 3148, 'wicked': 3149, 'standout': 3150, 'flowing': 3151, 'pointing': 3152, 'possession': 3153, 'severe': 3154, 'territory': 3155, 'condescending': 3156, 'spoon': 3157, 'beating': 3158, 'hook': 3159, 'strength': 3160, 'approved': 3161, 'unlikable': 3162, 'ironically': 3163, 'plainly': 3164, 'any': 3165, 'physical': 3166, 'innocence': 3167, 'suggests': 3168, 'reflection': 3169, 'offered': 3170, 'scathing': 3171, '30': 3172, 'organic': 3173, 'climbing': 3174, 'originally': 3175, 'burning': 3176, 'plague': 3177, 'changing': 3178, 'admitted': 3179, 'funnier': 3180, 'toddler': 3181, 'traumatic': 3182, 'complication': 3183, 'slipped': 3184, 'shook': 3185, 'slapstick': 3186, 'suitable': 3187, 'voted': 3188, 'sarcasm': 3189, 'occuring': 3190, 'campaign': 3191, 'useful': 3192, 'believed': 3193, 'sadness': 3194, 'suggestion': 3195, 'intro': 3196, 'previously': 3197, 'anxious': 3198, 'heck': 3199, 'outdone': 3200, 'vampire': 3201, 'progressed': 3202, 'similarity': 3203, 'tortured': 3204, '1977': 3205, 'easier': 3206, 'trite': 3207, 'adapted': 3208, 'rave': 3209, 'absurdity': 3210, 'drivel': 3211, 'monologue': 3212, 'allow': 3213, 'coupled': 3214, 'involve': 3215, 'fed': 3216, 'greatness': 3217, 'splash': 3218, 'drop': 3219, 'been': 3220, 'inhuman': 3221, 'runaway': 3222, 'goodness': 3223, 'creator': 3224, 'lately': 3225, 'countless': 3226, 'illustrated': 3227, 'punch': 3228, 'pessimistic': 3229, 'carried': 3230, 'uniquely': 3231, 'hierarchy': 3232, 'anymore': 3233, 'peace': 3234, 'amateurish': 3235, 'highest': 3236, 'larger': 3237, 'irony': 3238, 'separate': 3239, 'structured': 3240, 'reviewing': 3241, 'alright': 3242, 'billy': 3243, 'puzzle': 3244, 'socioeconomic': 3245, 'dedication': 3246, 'drag': 3247, 'hot': 3248, 'nonsensical': 3249, 'serenity': 3250, 'moreover': 3251, 'aesthetically': 3252, 'sarcastic': 3253, 'strangely': 3254, 'unit': 3255, 'useless': 3256, 'charm': 3257, 'or': 3258, 'alert': 3259, 'surround': 3260, 'hunt': 3261, 'gwoemul': 3262, 'showcasing': 3263, 'burn': 3264, 'saturated': 3265, 'hilariously': 3266, 'invitation': 3267, 'motivated': 3268, 'attached': 3269, 'fictional': 3270, 'cuaron': 3271, 'sean': 3272, 'accurate': 3273, 'awake': 3274, 'franchise': 3275, '2010': 3276, 'towering': 3277, 'doll': 3278, 'coveted': 3279, 'wholly': 3280, 'asset': 3281, 'proceeding': 3282, 'endless': 3283, 'empathy': 3284, 'trashed': 3285, 'endowing': 3286, 'edition': 3287, 'composer': 3288, 'stopping': 3289, 'achievement': 3290, 'transcends': 3291, 'transforming': 3292, 'shakespeare': 3293, 'assured': 3294, 'bonanza': 3295, 'import': 3296, 'announced': 3297, '2002': 3298, 'undeniably': 3299, 'elderly': 3300, 'dealer': 3301, '20th': 3302, 'gun': 3303, 'minion': 3304, 'hokey': 3305, 'be': 3306, 'caption': 3307, 'dubbing': 3308, 'wire': 3309, 'speaker': 3310, 'unwatchable': 3311, 'scifi': 3312, 'sum': 3313, 'keanu': 3314, 'reef': 3315, 'island': 3316, 'steaming': 3317, 'dear': 3318, '227': 3319, 'brainless': 3320, 'shouting': 3321, 'attempted': 3322, 'advertised': 3323, 'wherein': 3324, 'mankind': 3325, 'implied': 3326, 'effects': 3327, 'stiff': 3328, 'filming': 3329, 'decide': 3330, 'refund': 3331, 'anton': 3332, 'explaining': 3333, 'pg': 3334, '13': 3335, 'breakthrough': 3336, 'spectacle': 3337, 'claptrap': 3338, 'iconic': 3339, 'gag': 3340, 'bum': 3341, 'imaginable': 3342, 'introduction': 3343, 'daniel': 3344, 'reasonable': 3345, 'chick': 3346, 'enjoying': 3347, 'dunno': 3348, 'wondered': 3349, 'blunt': 3350, 'blew': 3351, 'excruciating': 3352, 'counting': 3353, 'masquerading': 3354, 'pirate': 3355, 'narnia': 3356, 'entertain': 3357, 'resembling': 3358, 'suffering': 3359, 'rising': 3360, 'troop': 3361, 'thankful': 3362, 'card': 3363, 'premiere': 3364, '1st': 3365, 'chiii': 3366, 'yek': 3367, 'chosun': 3368, 'eight': 3369, '3000': 3370, 'spielberg': 3371, 'judged': 3372, 'objective': 3373, 'sin': 3374, 'alive': 3375, 'advance': 3376, 'trigger': 3377, 'damage': 3378, 'doctor': 3379, 'basilisk': 3380, 'motionless': 3381, 'emotionless': 3382, 'robocops': 3383, 'gargoyle': 3384, 'crowded': 3385, '15': 3386, 'hogwash': 3387, 'abomination': 3388, 'mysteriously': 3389, 'repeating': 3390, 'disbelief': 3391, 'faith': 3392, 'conveniently': 3393, 'concentrated': 3394, 'prozac': 3395, 'tom': 3396, 'cruise': 3397, 'wading': 3398, 'cobra': 3399, 'promising': 3400, 'kitsch': 3401, 'handed': 3402, 'compete': 3403, 'lifted': 3404, 'sacred': 3405, 'tower': 3406, 'rubber': 3407, 'jar': 3408, 'resident': 3409, 'dressed': 3410, 'americans': 3411, 'about': 3412, 'roland': 3413, 'emmerich': 3414, 'quote': 3415, 'zoo': 3416, 'medieval': 3417, 'notably': 3418, 'atrocious': 3419, 'multiplex': 3420, 'further': 3421, 'harvard': 3422, 'heroine': 3423, 'pilot': 3424, 'lesson': 3425, 'existent': 3426, 'attacked': 3427, 'block': 3428, 'wannabe': 3429, 'martial': 3430, 'parc': 3431, 'sterile': 3432, '80': 3433, 'warcraft': 3434, '2009': 3435, 'shorten': 3436, 'battlefield': 3437, 'usc': 3438, 'fury': 3439, 'yahoo': 3440, 'presence': 3441, 'embarrassing': 3442, 'onto': 3443, 'chest': 3444, 'weakness': 3445, 'z': 3446, 'notion': 3447, 'rental': 3448, 'hairdo': 3449, 'gellar': 3450, 'emotive': 3451, 'concerned': 3452, 'cough': 3453, 'wake': 3454, 'sketch': 3455, 'penguin': 3456, 'nude': 3457, 'towel': 3458, 'waist': 3459, 'afterward': 3460, 'appearing': 3461, 'raspberry': 3462, 'crummy': 3463, 'prop': 3464, 'cheaper': 3465, 'heed': 3466, 'join': 3467, 'fulfill': 3468, 'locked': 3469, 'aka': 3470, 'wing': 3471, 'salt': 3472, 'ship': 3473, 'ding': 3474, 'dub': 3475, 'asleep': 3476, 'addition': 3477, 'buck': 3478, 'fixed': 3479, 'complaining': 3480, 'aim': 3481, 'imugi': 3482, 'warn': 3483, 'citizen': 3484, 'transformers': 3485, 'assumed': 3486, 'ok': 3487, 'mummy': 3488, 'producing': 3489, \"'arirang\": 3490, 'bathroom': 3491, '150': 3492, 'tanked': 3493, 'license': 3494, 'scenery': 3495, 'soooo': 3496, 'crashing': 3497, 'purchase': 3498, 'facial': 3499, 'dude': 3500, 'tossed': 3501, 'universe': 3502, 'clapping': 3503, 'soft': 3504, 'applied': 3505, 'gas': 3506, 'tsk': 3507, '350': 3508, 'swarm': 3509, 'dragonball': 3510, 'bleeding': 3511, 'unnatural': 3512, 'demanded': 3513, 'ass': 3514, 'painfully': 3515, 'blamed': 3516, 'improvement': 3517, 'fanatic': 3518, 'blog': 3519, 'download': 3520, 'qualify': 3521, 'lobe': 3522, 'differentiation': 3523, 'defend': 3524, 'flavor': 3525, 'fixing': 3526, '1507': 3527, 'rubbish': 3528, 'television': 3529, 'animated': 3530, 'fortress': 3531, 'satisfy': 3532, 'cody': 3533, 'arens': 3534, 'celestial': 3535, 'elephant': 3536, 'nightmare': 3537, 'floor': 3538, 'should': 3539, 'yea': 3540, 'lifeless': 3541, 'wilson': 3542, 'gene': 3543, 'lunch': 3544, 'shattered': 3545, 'mythological': 3546, 'virtue': 3547, 'clone': 3548, \"'cause\": 3549, 'downtown': 3550, 'specially': 3551, 'havoc': 3552, 'funding': 3553, 'somebody': 3554, 'dialectic': 3555, 'prologue': 3556, 'sell': 3557, 'bochun': 3558, 'sacrifice': 3559, 'feudal': 3560, 'japan': 3561, 'revolutionary': 3562, 'album': 3563, 'arirang': 3564, 'prepared': 3565, 'peer': 3566, 'community': 3567, 'spare': 3568, 'rainy': 3569, 'nation': 3570, 'outta': 3571, 'overwhelming': 3572, 'premier': 3573, 'pleased': 3574, 'shark': 3575, 'octopus': 3576, 'provides': 3577, 'archie': 3578, 'journalist': 3579, 'speech': 3580, 'sword': 3581, 'reincarnate': 3582, 'colorful': 3583, 'foster': 3584, 'admire': 3585, 'contains': 3586, 'stingy': 3587, 'roughly': 3588, '2600': 3589, 'satisfying': 3590, 'ways': 3591, 'muddled': 3592, 'staggering': 3593, 'stumped': 3594, 'excites': 3595, 'chew': 3596, '2010s': 3597, 'contained': 3598, \"'ocean\": 3599, 'eleven': 3600, 'heist': 3601, 'strikingly': 3602, 'crucially': 3603, 'ramming': 3604, 'reserved': 3605, 'execute': 3606, 'plucked': 3607, 'cinder': 3608, 'gussied': 3609, 'gown': 3610, 'egalitarian': 3611, 'unobstructed': 3612, 'backstabbing': 3613, 'callousness': 3614, 'confident': 3615, 'observes': 3616, 'rung': 3617, 'dangerously': 3618, 'greased': 3619, 'nor': 3620, 'tread': 3621, 'firmer': 3622, 'anticipated': 3623, 'bubbling': 3624, 'resonate': 3625, 'foregrounded': 3626, 'subtly': 3627, 'interwoven': 3628, 'devastated': 3629, 'humanist': 3630, 'witnessed': 3631, 'realizing': 3632, 'lensed': 3633, 'enthrallingly': 3634, 'superbly': 3635, 'intimately': 3636, 'sixth': 3637, 'stacked': 3638, 'kentucky': 3639, 'widespread': 3640, 'extracurriculars': 3641, 'afterschool': 3642, 'program': 3643, 'twelve': 3644, 'immersion': 3645, 'taekwondo': 3646, 'camp': 3647, 'chess': 3648, 'routinely': 3649, 'sixty': 3650, 'seventy': 3651, 'salary': 3652, 'desk': 3653, 'pry': 3654, 'fifty': 3655, 'apply': 3656, 'security': 3657, 'localized': 3658, 'materialism': 3659, 'imperialism': 3660, 'loom': 3661, 'cannibal': 3662, 'dreamer': 3663, 'pipe': 3664, 'whiff': 3665, 'spewed': 3666, 'engineer': 3667, \"'marks\": 3668, 'engages': 3669, 'falseness': 3670, \"'con\": 3671, 'mock': 3672, 'gullibility': 3673, 'dislodging': 3674, 'comparatively': 3675, 'wage': 3676, \"'truth\": 3677, 'link': 3678, 'belly': 3679, 'chill': 3680, '778': 3681, '114': 3682, 'enrolled': 3683, 'sunk': 3684, 'layabout': 3685, 'vermin': 3686, 'jostle': 3687, 'mimetic': 3688, 'perfomed': 3689, 'connected': 3690, '177': 3691, '255': 3692, 'reminder': 3693, 'few': 3694, '1980s': 3695, 'reversed': 3696, 'famine': 3697, 'dwellings': 3698, 'underclass': 3699, 'contemptuous': 3700, 'milk': 3701, 'butter': 3702, 'unclean': 3703, 'valuation': 3704, 'crumbles': 3705, 'roach': 3706, 'heads': 3707, 'criticizes': 3708, 'emulation': 3709, 'stroke': 3710, 'colonialism': 3711, 'thrive': 3712, 'happily': 3713, 'infest': 3714, 'sustain': 3715, '152': 3716, '253': 3717, 'screenwriter': 3718, 'themselves': 3719, 'discovers': 3720, 'explodes': 3721, 'aha': 3722, 'pouring': 3723, 'engine': 3724, 'complement': 3725, 'elevates': 3726, 'overbearing': 3727, 'achieves': 3728, 'sacrificing': 3729, 'ineffective': 3730, 'weighty': 3731, 'own': 3732, 'integrate': 3733, 'entanglement': 3734, 'spun': 3735, 'lowly': 3736, 'skating': 3737, 'ice': 3738, 'appearances': 3739, 'swing': 3740, 'broadly': 3741, 'threatens': 3742, 'shifts': 3743, 'marked': 3744, 'shine': 3745, 'lag': 3746, 'resembles': 3747, 'shelved': 3748, '374': 3749, '584': 3750, 'caveman': 3751, 'roman': 3752, 'enlightment': 3753, 'philosopher': 3754, 'fix': 3755, 'vice': 3756, 'versa': 3757, 'dived': 3758, 'into': 3759, '2000': 3760, 'corrupted': 3761, 'unfavorably': 3762, 'constructing': 3763, 'accepts': 3764, 'dreamt': 3765, 'backyard': 3766, 'cars': 3767, 'errand': 3768, 'runner': 3769, 'overjoyed': 3770, 'fooled': 3771, 'celebrating': 3772, 'focused': 3773, 'helping': 3774, 'thankfully': 3775, 'stabbing': 3776, 'depend': 3777, 'loaf': 3778, 'bread': 3779, 'complexity': 3780, 'naming': 3781, 'lockdown': 3782, 'escapism': 3783, 'impossibility': 3784, 'shakespearean': 3785, 'dirt': 3786, 'interpret': 3787, 'placing': 3788, 'aspires': 3789, 'attending': 3790, 'approached': 3791, 'sinch': 3792, 'fathom': 3793, 'simplified': 3794, 'regular': 3795, 'tie': 3796, 'flabbergasted': 3797, 'rug': 3798, 'imservie': 3799, 'cunningly': 3800, 'inspite': 3801, 'demeaning': 3802, 'weirdly': 3803, '171': 3804, 'overturn': 3805, 'thwart': 3806, 'defying': 3807, 'classification': 3808, 'conglomeration': 3809, 'polarized': 3810, 'dimension': 3811, \"n'eer\": 3812, 'accumulated': 3813, 'adulthood': 3814, 'nouveau': 3815, 'riche': 3816, 'pil': 3817, 'dawning': 3818, 'modernistic': 3819, 'sturdy': 3820, 'concrete': 3821, 'hyper': 3822, 'active': 3823, 'elitist': 3824, 'ideally': 3825, 'torn': 3826, 'trusting': 3827, 'competence': 3828, 'concocts': 3829, 'budding': 3830, 'picasso': 3831, 'invented': 3832, 'impugning': 3833, 'deadbeat': 3834, 'cynically': 3835, 'extend': 3836, 'existence': 3837, 'escapade': 3838, 'unsettling': 3839, 'mack': 3840, 'sennett': 3841, 'sweet': 3842, 'tumultuous': 3843, 'melange': 3844, 'chamber': 3845, 'torrential': 3846, 'rainstorm': 3847, 'hiding': 3848, 'edged': 3849, 'dissection': 3850, 'frightening': 3851, 'myung': 3852, 'hyeon': 3853, 'rok': 3854, 'insinuating': 3855, 'deliciously': 3856, 'demented': 3857, 'boldly': 3858, 'nerve': 3859, 'wracking': 3860, 'fluid': 3861, 'designed': 3862, 'audacious': 3863, 'tangle': 3864, 'artful': 3865, 'shopworn': 3866, 'exactness': 3867, 'ingeniously': 3868, 'aftermath': 3869, 'piled': 3870, 'scriptwriting': 3871, 'workshop': 3872, 'navigate': 3873, 'endpoints': 3874, '91': 3875, 'intellect': 3876, 'ha': 3877, 'accolades': 3878, 'firmament': 3879, 'dose': 3880, 'gravity': 3881, 'tragicomedy': 3882, 'defended': 3883, 'stifled': 3884, 'religious': 3885, 'dogma': 3886, 'eulogistic': 3887, 'expired': 3888, 'obsolete': 3889, 'dispossessed': 3890, 'currency': 3891, 'agenda': 3892, 'horrific': 3893, 'generated': 3894, 'toxin': 3895, 'river': 3896, 'kidnaps': 3897, 'nucleus': 3898, 'opposing': 3899, 'cultured': 3900, 'consuming': 3901, 'despicable': 3902, 'freezing': 3903, 'reasoning': 3904, 'exclusive': 3905, 'fleetingly': 3906, 'serial': 3907, 'throne': 3908, 'lenient': 3909, 'billion': 3910, 'fu': 3911, 'jet': 3912, 'occupy': 3913, 'rarity': 3914, 'underhanded': 3915, 'unbearable': 3916, 'distinctly': 3917, 'savor': 3918, 'minimum': 3919, 'schematically': 3920, 'globally': 3921, 'sumptuous': 3922, 'confess': 3923, 'crush': 3924, 'postscript': 3925, 'anecdote': 3926, 'proletarian': 3927, 'orgy': 3928, 'manifold': 3929, 'rustique': 3930, 'bresse': 3931, 'bleu': 3932, '206': 3933, '388': 3934, 'bafta': 3935, '92nd': 3936, 'receive': 3937, '77th': 3938, '73rd': 3939, 'creeping': 3940, 'wash': 3941, 'admirer': 3942, 'hitch': 3943, 'voyeurism': 3944, 'glimpse': 3945, 'grossed': 3946, '163': 3947, 'fond': 3948, 'pedro': 3949, 'almodóvar': 3950, 'absorb': 3951, 'pasasite': 3952, 'catastrophe': 3953, 'cherry': 3954, '19th': 3955, 'hbo': 3956, 'portraying': 3957, 'magnate': 3958, 'privilege': 3959, 'financed': 3960, 'coup': 3961, 'aspiration': 3962, 'dress': 3963, 'obtain': 3964, 'insular': 3965, 'neurotic': 3966, 'kinder': 3967, 'ironed': 3968, 'smoothed': 3969, 'parasitelearn': 3970, 'pronounce': 3971, 'noun': 3972, 'deriving': 3973, 'nutrient': 3974, 'narratively': 3975, 'thematically': 3976, 'trowel': 3977, 'falter': 3978, 'brisk': 3979, 'canter': 3980, 'observe': 3981, 'alters': 3982, 'proceed': 3983, 'venture': 3984, 'quotidian': 3985, 'buried': 3986, 'detailing': 3987, 'coordinate': 3988, 'painstakingly': 3989, 'daring': 3990, 'impermissible': 3991, 'supervision': 3992, 'unflattering': 3993, 'homeschool': 3994, 'oxford': 3995, 'stressed': 3996, 'ascent': 3997, 'informs': 3998, 'continually': 3999, 'meticulous': 4000, 'recitation': 4001, 'libbing': 4002, 'research': 4003, 'morbidly': 4004, 'cutting': 4005, 'rehearsal': 4006, 'purposefully': 4007, 'staging': 4008, 'vast': 4009, 'portray': 4010, 'environment': 4011, 'employees': 4012, 'duping': 4013, 'refrain': 4014, 'vacated': 4015, 'deliberate': 4016, 'carefree': 4017, 'observant': 4018, 'inequity': 4019, 'bleaker': 4020, 'necessarily': 4021, 'fairness': 4022, 'conniving': 4023, 'sherwoodian': 4024, 'divisive': 4025, 'circle': 4026, 'armond': 4027, 'scoff': 4028, 'sentiment': 4029, 'offensive': 4030, 'berate': 4031, 'classism': 4032, 'decipher': 4033, 'comically': 4034, 'likens': 4035, 'communist': 4036, 'antifa': 4037, 'terrorists': 4038, 'strictly': 4039, 'midsommar': 4040, 'swedish': 4041, 'opt': 4042, 'perversely': 4043, 'psh': 4044, 'infiltration': 4045, 'fever': 4046, 'buzz': 4047, 'sometime': 4048, 'influenced': 4049, 'enters': 4050, 'comprising': 4051, 'savvy': 4052, 'careless': 4053, 'path': 4054, 'enter': 4055, 'falsely': 4056, 'accusing': 4057, 'kicks': 4058, 'uninvited': 4059, 'depicting': 4060, 'cigeratte': 4061, 'scores': 4062, 'trimmed': 4063, 'goose': 4064, 'bump': 4065, 'renowned': 4066, 'ninety': 4067, 'republic': 4068, 'cumbersome': 4069, 'melodramatic': 4070, 'moralizing': 4071, 'personnel': 4072, 'ethically': 4073, 'procedure': 4074, 'realizes': 4075, 'hide': 4076, 'lasting': 4077, 'animate': 4078, 'craving': 4079, 'tame': 4080, 'superhero': 4081, 'flash': 4082, 'severely': 4083, 'hatch': 4084, 'topping': 4085, 'cheat': 4086, 'complimented': 4087, 'analyzed': 4088, 'ponder': 4089, 'mischievous': 4090, 'varying': 4091, 'decay': 4092, 'turns': 4093, 'visceral': 4094, 'performances': 4095, 'embodies': 4096, 'boldness': 4097, 'exemplifies': 4098, 'steadfast': 4099, 'defiance': 4100, 'vitality': 4101, 'edginess': 4102, 'residual': 4103, 'melancholy': 4104, 'audacity': 4105, 'lingering': 4106, 'shred': 4107, 'grandly': 4108, 'counterpart': 4109, 'midst': 4110, 'bold': 4111, 'describes': 4112, 'capricious': 4113, 'consequently': 4114, 'paradoxically': 4115, 'purposely': 4116, \"'crosses\": 4117, 'unsympathetic': 4118, 'plagued': 4119, 'innocuously': 4120, 'charismatic': 4121, 'caution': 4122, 'substance': 4123, 'abuser': 4124, 'adept': 4125, 'acute': 4126, 'documentation': 4127, 'acquiring': 4128, 'deduces': 4129, 'troubled': 4130, 'untamed': 4131, 'similarly': 4132, 'familial': 4133, 'replaces': 4134, 'legacy': 4135, 'vicariously': 4136, 'zenith': 4137, 'inebriation': 4138, 'pristine': 4139, 'marrying': 4140, 'warp': 4141, 'devolves': 4142, 'hysteria': 4143, 'madness': 4144, 'yearns': 4145, \"isn't\": 4146, 'brazenly': 4147, 'sociopathy': 4148, 'karma': 4149, 'provocative': 4150, 'conspired': 4151, 'masturbation': 4152, 'righteous': 4153, 'indulgent': 4154, 'lowlife': 4155, 'heartless': 4156, 'practiced': 4157, 'dignified': 4158, 'shameful': 4159, 'writers': 4160, 'sharper': 4161, 'swindled': 4162, 'exams': 4163, 'refused': 4164, 'businessman': 4165, 'entrepreneur': 4166, 'moronic': 4167, 'scammers': 4168, 'summary': 4169, 'probability': 4170, 'grifters': 4171, 'swindlers': 4172, 'lamers': 4173, 'resent': 4174, 'vent': 4175, 'bitterness': 4176, 'swindler': 4177, 'fraud': 4178, 'ah': 4179, 'ga': 4180, 'ssi': 4181, 'abject': 4182, 'lesbian': 4183, 'torture': 4184, 'envy': 4185, 'certified': 4186, 'lifetime': 4187, '01': 4188, 'extravagant': 4189, 'president': 4190, 'obama': 4191, 'dreck': 4192, 'clicking': 4193, 'thumb': 4194, 'begs': 4195, 'nitpick': 4196, 'tracking': 4197, 'reacts': 4198, 'constant': 4199, 'culminates': 4200, 'acclaim': 4201, 'kidding': 4202, 'captivated': 4203, 'spellbinding': 4204, 'comedies': 4205, 'dramas': 4206, 'thrillers': 4207, 'shortest': 4208, 'brilliance': 4209, 'spellbound': 4210, 'greeting': 4211, 'lithuania': 4212, \"korea'n\": 4213, 'stupendously': 4214, 'diamond': 4215, 'unusually': 4216, 'partner': 4217, 'ooze': 4218, 'moth': 4219, 'flame': 4220, 'sway': 4221, 'gracefully': 4222, 'conveyed': 4223, 'materializes': 4224, 'communicate': 4225, 'domain': 4226, 'experiment': 4227, 'absloutely': 4228, 'mindblowing': 4229, 'accomplishes': 4230, 'emphasize': 4231, 'prevails': 4232, 'nominating': 4233, 'genial': 4234, 'marvellous': 4235, 'supersmooth': 4236, 'spiced': 4237, 'jolt': 4238, 'its': 4239, 'wishing': 4240, 'sosciety': 4241, 'serendipidness': 4242, 'grumpy': 4243, 'harbor': 4244, 'concerning': 4245, 'indication': 4246, 'cusp': 4247, 'competitor': 4248, 'pithy': 4249, 'fargo': 4250, 'roost': 4251, 'curiousity': 4252, 'forwarded': 4253, 'repelled': 4254, 'sadistic': 4255, 'gratuitous': 4256, 'caricature': 4257, 'unlikeable': 4258, '105': 4259, 'comprises': 4260, 'manifested': 4261, 'unlock': 4262, 'genres': 4263, 'convert': 4264, 'comprehensive': 4265, 'professionally': 4266, 'synchronize': 4267, 'architecture': 4268, 'vibrant': 4269, 'colours': 4270, 'majestic': 4271, 'richer': 4272, 'elements': 4273, 'mirror': 4274, 'appreciated': 4275, 'distributed': 4276, 'noteworthy': 4277, 'decades': 4278, 'seeping': 4279, 'dollars': 4280, 'incomparable': 4281, 'inhabit': 4282, 'centered': 4283, 'veers': 4284, 'unable': 4285, 'expertly': 4286, 'gasping': 4287, 'operating': 4288, 'continues': 4289, 'cloths': 4290, 'imitation': 4291, 'smash': 4292, 'upcoming': 4293, 'oscars': 4294, 'expressive': 4295, 'stylishly': 4296, 'dwindles': 4297, 'arose': 4298, 'deduct': 4299, 'captivate': 4300, 'immerse': 4301, 'challenge': 4302, 'differentiate': 4303, 'possibility': 4304, 'meat': 4305, 'disorder': 4306, 'morse': 4307, 'credulity': 4308, 'crowbarred': 4309, 'amoral': 4310, 'mischevious': 4311, 'inventiveness': 4312, 'interspersing': 4313, 'leftfield': 4314, 'choreographed': 4315, 'involuntarily': 4316, 'admiration': 4317, 'doozy': 4318, 'nominations': 4319, 'foresees': 4320, 'unambitious': 4321, 'park´s': 4322, 'parasita': 4323, 'radar': 4324, 'snowpiecer': 4325, 'consecutive': 4326, 'eagerly': 4327, 'awaiting': 4328, 'eldest': 4329, 'sibling': 4330, 'artists': 4331, 'legitimate': 4332, 'framing': 4333, 'slightest': 4334, 'masterclass': 4335, 'delighted': 4336, 'universally': 4337, 'astounding': 4338, 'efficacious': 4339, 'substantial': 4340, 'raison': 4341, \"d'être\": 4342, 'assembled': 4343, 'primary': 4344, 'heightened': 4345, 'manipulates': 4346, 'subvert': 4347, 'normative': 4348, 'combining': 4349, 'taut': 4350, 'darkness': 4351, 'unprecedented': 4352, 'impeccable': 4353, 'tightness': 4354, 'utmost': 4355, 'cited': 4356, 'figuratively': 4357, 'piss': 4358, 'striving': 4359, 'touching': 4360, 'heartwarming': 4361, 'squalor': 4362, 'undetectable': 4363, 'loathed': 4364, 'reveals': 4365, 'brazen': 4366, 'simplest': 4367, 'facet': 4368, 'january': 4369, 'racket': 4370, 'weasel': 4371, 'collar': 4372, 'unpredictably': 4373, 'evenly': 4374, 'mixing': 4375, 'versatile': 4376, 'ratchet': 4377, 'biters': 4378, 'firework': 4379, 'overplay': 4380, 'flurry': 4381, 'blows': 4382, 'momentum': 4383, 'curve': 4384, 'grim': 4385, 'unrestrained': 4386, 'helluva': 4387, 'superlative': 4388, 'descend': 4389, 'unanimously': 4390, 'smooth': 4391, 'colour': 4392, 'utilised': 4393, 'stellar': 4394, 'addressed': 4395, 'commend': 4396, 'exposure': 4397, 'sight': 4398, 'doubted': 4399, 'photography': 4400, 'mockery': 4401, 'damm': 4402, 'violin': 4403, 'continuously': 4404, 'commendable': 4405, 'feat': 4406, 'applauded': 4407, 'assure': 4408, 'economical': 4409, 'symbolise': 4410, 'sensitive': 4411, 'applicable': 4412, 'intellectuality': 4413, 'metaphorically': 4414, 'promo': 4415, 'slate': 4416, '814': 4417, 'telecast': 4418, 'attain': 4419, 'establish': 4420, \"'slums\": 4421, 'symmetry': 4422, \"'us\": 4423, 'unconscious': 4424, 'greener': 4425, 'grass': 4426, 'seriousness': 4427, 'fitting': 4428, 'bittersweet': 4429, 'devastating': 4430, 'bonkers': 4431, 'sprinkling': 4432, 'andersen': 4433, 'emperor': 4434, \"'good\": 4435, \"'alright\": 4436, 'unanswered': 4437, 'endwhy': 4438, 'endwhat': 4439, 'wooit': 4440, 'reallythe': 4441, 'wine': 4442, 'norm': 4443, \"critics'the\": 4444, \"'eccentric'millennial\": 4445, 'flag': 4446, \"'politically\": 4447, 'transgender': 4448, 'biological': 4449, 'stateif': 4450, 'blast': 4451, 'multidimensional': 4452, 'heartfelt': 4453, 'ramification': 4454, 'prism': 4455, 'consumer': 4456, \"'memories\": 4457, 'backlash': 4458, 'imperialistic': 4459, 'mild': 4460, 'eerie': 4461, 'milieu': 4462, 'ace': 4463, 'predicting': 4464, 'grail': 4465, 'cerebrally': 4466, 'boggling': 4467, 'ridden': 4468, 'tanking': 4469, 'sponging': 4470, 'scrounging': 4471, 'assembling': 4472, \"'frat\": 4473, 'boys': 4474, 'lucked': 4475, 'swanky': 4476, 'wool': 4477, 'influence': 4478, 'encroach': 4479, 'lives': 4480, 'farcical': 4481, 'cruelty': 4482, 'scattered': 4483, 'clunk': 4484, 'shuts': 4485, 'embrace': 4486, 'flown': 4487, 'hysterically': 4488, 'loach': 4489, 'imagined': 4490, 'bizarrely': 4491, 'months': 4492, 'ran': 4493, 'hubbub': 4494, 'chatter': 4495, 'graphical': 4496, 'mann': 4497, 'facebook': 4498, '3rd': 4499, 'bravo': 4500, 'ramshackle': 4501, 'rosier': 4502, 'pathos': 4503, 'slacker': 4504, 'deceptions': 4505, 'seeming': 4506, 'frustrate': 4507, 'pompous': 4508, 'echelon': 4509, 'frustration': 4510, 'debate': 4511, 'denouement': 4512, 'thoughtfully': 4513, 'methodical': 4514, 'examination': 4515, 'upstairs': 4516, 'downstairs': 4517, 'civilly': 4518, 'esteem': 4519, 'privately': 4520, 'soluble': 4521, 'civilized': 4522, '511': 4523, 'checking': 4524, 'assortment': 4525, 'cognitive': 4526, 'transcend': 4527, 'astronomical': 4528, 'brutally': 4529, 'seamless': 4530, 'branded': 4531, 'sticking': 4532, 'stamp': 4533, 'paradigm': 4534, 'overprotective': 4535, 'disparate': 4536, 'coach': 4537, 'perpetrated': 4538, 'oust': 4539, 'maid': 4540, 'property': 4541, 'manse': 4542, 'slot': 4543, 'inheritor': 4544, 'forcing': 4545, 'heroes': 4546, 'delineated': 4547, \"'me\": 4548, 'rush': 4549, 'mirthful': 4550, 'purest': 4551, 'thiller': 4552, 'suspance': 4553, \"k'atek\": 4554, 'obtains': 4555, 'craftily': 4556, 'conspires': 4557, 'longtime': 4558, 'eden': 4559, 'yard': 4560, 'defining': 4561, 'induced': 4562, 'hurried': 4563, 'epilogue': 4564, 'kyong': 4565, 'jab': 4566, 'dividing': 4567, 'benign': 4568, 'fascination': 4569, 'wheel': 4570, 'conflagration': 4571, 'insipid': 4572, 'morally': 4573, 'gray': 4574, 'plight': 4575, 'earn': 4576, 'funniest': 4577, 'anticlimactic': 4578, 'dissatisfying': 4579, 'empathize': 4580, 'cons': 4581, 'scooping': 4582, 'your': 4583, 'allegiance': 4584, 'fantastically': 4585, 'corner': 4586, 'frenchies': 4587, 'menagerie': 4588, 'shower': 4589, 'springtime': 4590, 'tilda': 4591, 'swinton': 4592, 'jake': 4593, 'gyllenhaal': 4594, 'sideshow': 4595, 'vibe': 4596, 'grotesque': 4597, 'concoction': 4598, 'cuteness': 4599, 'ultra': 4600, 'reeked': 4601, 'reservation': 4602, 'genetically': 4603, 'engineered': 4604, 'pig': 4605, 'callous': 4606, 'neglectfulness': 4607, 'consumerist': 4608, 'incisive': 4609, 'suffused': 4610, 'translatable': 4611, 'reigned': 4612, 'understated': 4613, 'manic': 4614, 'apathetically': 4615, 'cigarette': 4616, 'lidded': 4617, 'spewing': 4618, 'conscious': 4619, 'pervaded': 4620, 'relatability': 4621, 'elbow': 4622, 'relegate': 4623, 'servitude': 4624, 'pervasive': 4625, 'mechanism': 4626, 'claw': 4627, 'output': 4628, 'involves': 4629, 'stubborn': 4630, 'shrewdness': 4631, 'intrigue': 4632, 'pumping': 4633, 'entertains': 4634, 'pseudo': 4635, 'intellectuals': 4636, 'expand': 4637, 'palate': 4638, 'immersive': 4639, 'captain': 4640, 'unwarranted': 4641, 'obliviousness': 4642, 'rewatching': 4643, 'gravitate': 4644, 'opposed': 4645, 'boat': 4646, 'underdog': 4647, 'lively': 4648, 'trial': 4649, 'cushy': 4650, 'insensitive': 4651, 'watering': 4652, 'ala': 4653, 'border': 4654, 'rationale': 4655, 'subjective': 4656, 'species': 4657, 'exclusively': 4658, 'glorious': 4659, 'spotless': 4660, 'hill': 4661, 'chasm': 4662, 'kindling': 4663, 'absurdist': 4664, 'fuzz': 4665, 'hammer': 4666, 'expertise': 4667, 'infatuation': 4668, 'peppered': 4669, 'distraction': 4670, 'spinning': 4671, 'dichotomy': 4672, 'knuckle': 4673, 'feeder': 4674, 'muddied': 4675, 'hipcrank': 4676, 'awrd': 4677, 'glowing': 4678, 'myself': 4679, 'snob': 4680, 'polite': 4681, 'domestic': 4682, 'foolish': 4683, 'bag': 4684, '282': 4685, '535': 4686, 'buzzing': 4687, 'milestone': 4688, 'bloated': 4689, 'longest': 4690, 'hustling': 4691, 'accustomed': 4692, 'subverted': 4693, 'gasp': 4694, 'rewatches': 4695, 'essay': 4696, 'lovable': 4697, 'nasty': 4698, 'draining': 4699, 'dying': 4700, 'modernity': 4701, 'homage': 4702, 'idyllic': 4703, 'classless': 4704, '238': 4705, '416': 4706, 'unachievable': 4707, '731': 4708, '377': 4709, 'boong': 4710, 'screenwriting': 4711, 'vacuumed': 4712, 'sitted': 4713, 'effortless': 4714, 'roaring': 4715, 'stuck': 4716, 'trope': 4717, 'handkerchief': 4718, 'dripping': 4719, 'duality': 4720, 'awaken': 4721, 'interpretation': 4722, 'sorely': 4723, 'gif': 4724, 'clint': 4725, 'eastwood': 4726, 'gran': 4727, 'torino': 4728, 'politics': 4729, 'caters': 4730, '56': 4731, '33': 4732, 'rounded': 4733, 'futile': 4734, 'grift': 4735, 'poised': 4736, 'slammed': 4737, 'adoring': 4738, 'warmed': 4739, 'noting': 4740, 'reiterate': 4741, 'revisiting': 4742, 'especial': 4743, 'tightly': 4744, 'bandwagon': 4745, 'discomfiting': 4746, 'astute': 4747, 'leaden': 4748, 'conveys': 4749, 'tomorrow': 4750, 'climex': 4751, 'sydney': 4752, 'reel': 4753, 'venue': 4754, 'madman': 4755, 'australian': 4756, 'cinemas': 4757, 'scruffy': 4758, 'snappy': 4759, 'neighbour': 4760, 'folding': 4761, 'faking': 4762, 'diploma': 4763, 'introduces': 4764, 'lawn': 4765, 'unstable': 4766, 'scriptwriters': 4767, 'sleeve': 4768, 'differentiates': 4769, 'dreamlike': 4770, 'focusing': 4771, 'clearer': 4772, 'bounce': 4773, 'feverish': 4774, 'selfishness': 4775, 'goal': 4776, 'upperclass': 4777, 'threat': 4778, 'staircase': 4779, 'efforts': 4780, 'mite': 4781, 'discriminate': 4782, 'moviegoer': 4783, 'rub': 4784, 'spark': 4785, 'flip': 4786, 'infestation': 4787, 'clover': 4788, 'introspectively': 4789, 'reinforce': 4790, 'sympathise': 4791, 'exquisitely': 4792, 'tug': 4793, '10🙏🏻': 4794, 'repulsive': 4795, 'prejudiced': 4796, 'unsuccessfully': 4797, 'inverse': 4798, 'undeserving': 4799, 'brotherhood': 4800, 'crook': 4801, 'denigrates': 4802, 'criticises': 4803, 'alternative': 4804, 'apology': 4805, 'ideologically': 4806, 'furthers': 4807, 'polarisation': 4808, 'repugnant': 4809, 'unadulterated': 4810, 'furthered': 4811, 'detestability': 4812, 'understatement': 4813, 'decadent': 4814, 'frank': 4815, 'knowledge': 4816, 'qualification': 4817, 'taker': 4818, 'thorough': 4819, 'scrutiny': 4820, 'gluttonous': 4821, 'unabashed': 4822, 'derisive': 4823, 'deemed': 4824, 'yin': 4825, 'jeunet': 4826, 'fabuleux': 4827, 'destin': 4828, \"d'amélie\": 4829, 'poulain': 4830, 'lesser': 4831, 'meta': 4832, 'neatly': 4833, 'tucked': 4834, 'recess': 4835, 'dualism': 4836, 'cleanse': 4837, 'counterbalance': 4838, 'sentimentalism': 4839, 'magnet': 4840, 'ripe': 4841, 'cy': 4842, 'bugs': 4843, 'devour': 4844, 'wantonly': 4845, 'orgiastic': 4846, 'frenzy': 4847, 'kindredship': 4848, 'aligned': 4849, 'thematic': 4850, 'yorgos': 4851, 'dogtooth': 4852, 'lobster': 4853, 'distant': 4854, 'cocaine': 4855, 'junkie': 4856, 'filmic': 4857, 'dna': 4858, 'deadweight': 4859, 'accomplice': 4860, 'h': 4861, 'pervades': 4862, 'spaceship': 4863, 'endured': 4864, 'distance': 4865, 'flight': 4866, 'mimicking': 4867, 'newscast': 4868, 'beg': 4869, 'meaty': 4870, 'allusion': 4871, 'consciousness': 4872, 'diverse': 4873, 'hive': 4874, 'fanbase': 4875, 'peculiar': 4876, 'glamorous': 4877, 'ingratiate': 4878, 'entangled': 4879, 'introduce': 4880, 'hitting': 4881, 'backdrop': 4882, 'amazes': 4883, 'majorly': 4884, 'maze': 4885, 'serving': 4886, 'sweeping': 4887, 'narrow': 4888, 'corridor': 4889, 'mo': 4890, 'accompanies': 4891, 'symphonic': 4892, 'prowess': 4893, 'infectious': 4894, 'engrossed': 4895, 'having': 4896, 'increased': 4897, 'concentrate': 4898, 'blameless': 4899, 'ambiguity': 4900, 'abundant': 4901, 'magnificently': 4902, 'shoo': 4903, 'vigor': 4904, 'intimacy': 4905, 'deviousness': 4906, 'abyss': 4907, 'straightforward': 4908, 'reevaluate': 4909, 'dropping': 4910, 'whirlwind': 4911, 'teary': 4912, 'ruminating': 4913, 'myeong': 4914, 'se': 4915, 'sceptical': 4916, 'complimenting': 4917, 'villanize': 4918, 'finger': 4919, 'enhanced': 4920, 'spouse': 4921, 'automatically': 4922, 'dehumanized': 4923, 'rat': 4924, 'cockroach': 4925, 'humanized': 4926, 'snapped': 4927, 'outnumber': 4928, 'massively': 4929, '107': 4930, 'forming': 4931, 'examining': 4932, 'headlined': 4933, 'fleshed': 4934, 'selection': 4935, 'breached': 4936, 'stratosphere': 4937, 'standpoint': 4938, 'cia': 4939, 'prevalence': 4940, 'difficulty': 4941, 'circumstances': 4942, 'arc': 4943, 'emphasis': 4944, 'hauntingly': 4945, 'categories': 4946, 'reviews': 4947, '20mins': 4948, 'entrench': 4949, 'parks': 4950, 'jackass': 4951, 'apple': 4952, 'actively': 4953, 'against': 4954, 'positively': 4955, 'emotions': 4956, 'pinpointing': 4957, 'flew': 4958, 'ps': 4959, 'hirokazu': 4960, 'koreeda': 4961, '2018': 4962, 'mesmerizing': 4963, 'therein': 4964, 'murky': 4965, 'prevent': 4966, 'wrapt': 4967, 'alot': 4968, 'tap': 4969, 'widening': 4970, 'polar': 4971, 'comfortable': 4972, 'owe': 4973, 'sexual': 4974, 'needing': 4975, 'trickery': 4976, 'entered': 4977, 'gate': 4978, 'abstract': 4979, 'oblivious': 4980, 'paranoid': 4981, 'frightened': 4982, 'feeding': 4983, 'scrap': 4984, 'praising': 4985, 'commented': 4986, '156': 4987, 'peeing': 4988, 'cryptic': 4989, 'sculpture': 4990, 'town': 4991, 'assures': 4992, 'dazzle': 4993, 'ditzy': 4994, 'gook': 4995, 'sizeable': 4996, 'bow': 4997, 'arrow': 4998, 'andy': 4999, 'warhol': 5000, 'anointed': 5001, 'jean': 5002, 'basquiat': 5003, 'participates': 5004, 'exquisite': 5005, 'announces': 5006, 'shared': 5007, 'foil': 5008, 'focal': 5009, 'waltzed': 5010, 'identified': 5011, 'storm': 5012, 'downward': 5013, 'luxurious': 5014, 'angles': 5015, 'layers': 5016, 'dazzling': 5017, 'indecisive': 5018, 'displace': 5019, 'atomic': 5020, 'bunker': 5021, 'broker': 5022, 'client': 5023, 'engulfing': 5024, 'disemployment': 5025, 'pass': 5026, 'conciliation': 5027, 'upheaval': 5028, 'negotiate': 5029, 'define': 5030, 'stomach': 5031, 'exceed': 5032, 'plethora': 5033, 'shifting': 5034, 'eerily': 5035, 'terrifying': 5036, 'holistically': 5037, 'smartest': 5038, 'wrestle': 5039, 'delusion': 5040, 'selfish': 5041, 'unkind': 5042, 'suffer': 5043, '119': 5044, 'metascore': 5045, 'léon': 5046, \"c'era\": 5047, 'una': 5048, 'volta': 5049, 'django': 5050, 'unchained': 5051, 'clockwork': 5052, 'orange': 5053, 'successfully': 5054, 'morbid': 5055, 'oldeuboi': 5056, 'association': 5057, 'sickness': 5058, 'refer': 5059, 'author': 5060, 'fraudsters': 5061, 'employer': 5062, 'postmodern': 5063, 'demonstrably': 5064, 'honed': 5065, 'structural': 5066, 'remarkable': 5067, 'excel': 5068, 'lift': 5069, 'chiefly': 5070, 'touched': 5071, 'purge': 5072, 'clarifies': 5073, 'effective': 5074, 'ideal': 5075, 'signalling': 5076, \"'wokeness\": 5077, 'referenced': 5078, 'durability': 5079, 'sublimely': 5080, 'accompanied': 5081, 'lingers': 5082, 'shullivan': 5083, 'robbed': 5084, 'harvey': 5085, 'weinstein': 5086, 'justice': 5087, 'upheavel': 5088, 'inclusive': 5089, 'feedback': 5090, 'fizzled': 5091, '1939': 5092, 'witch': 5093, 'melted': 5094, 'skillfully': 5095, 'node': 5096, 'smiling': 5097, 'antic': 5098, 'fulfil': 5099, 'downfall': 5100, 'inserting': 5101, 'vacant': 5102, 'gainfully': 5103, 'servants': 5104, 'commonly': 5105, 'termed': 5106, 'problems': 5107, 'meager': 5108, 'shy': 5109, 'interestingly': 5110, 'beaten': 5111, 'couching': 5112, 'receptive': 5113, 'ideas': 5114, 'indifference': 5115, 'enriches': 5116, 'rolling': 5117, 'fickle': 5118, 'gearing': 5119, 'margot': 5120, 'robie': 5121, 'brad': 5122, 'pitt': 5123, 'ive': 5124, 'disect': 5125, 'faculty': 5126, 'agreed': 5127, 'elsewhere': 5128, 'clunky': 5129, 'raving': 5130, 'supremely': 5131, 'racked': 5132, 'enthralled': 5133, 'btn': 5134, 'writ': 5135, 'sophisticated': 5136, 'poetry': 5137, 'misery': 5138, 'stunt': 5139, 'growth': 5140, 'surrender': 5141, 'blessed': 5142, 'details': 5143, 'mine': 5144, 'bonded': 5145, 'trough': 5146, 'okey': 5147, 'regarding': 5148, 'synonyms': 5149, 'taratino': 5150, 'upped': 5151, 'expendable': 5152, 'dint': 5153, 'loop': 5154, 'priority': 5155, 'completed': 5156, 'judgement': 5157, 'throwing': 5158, 'investing': 5159, 'zoon': 5160, 'bending': 5161, 'cheerfully': 5162, 'recites': 5163, 'determined': 5164, 'abundantly': 5165, 'vivid': 5166, 'radish': 5167, 'rag': 5168, 'boiled': 5169, 'distills': 5170, 'sr': 5171, 'swift': 5172, 'calmly': 5173, 'efficient': 5174, 'keening': 5175, 'madwoman': 5176, 'helplessness': 5177, 'gorily': 5178, 'combust': 5179, 'gnawing': 5180, 'evolutionary': 5181, 'inability': 5182, 'bond': 5183, 'firm': 5184, 'withstand': 5185, 'pressure': 5186, 'fracture': 5187, 'stinging': 5188, 'topicality': 5189, 'wrenching': 5190, 'shudder': 5191, 'groundless': 5192, 'reflexion': 5193, 'melded': 5194, 'sociopolitical': 5195, 'airtight': 5196, 'luckily': 5197, 'borrows': 5198, 'overlap': 5199, 'nuanced': 5200, 'traverse': 5201, 'uproariously': 5202, 'relieve': 5203, 'razor': 5204, 'indie': 5205, 'warrant': 5206, 'reference': 5207, 'italian': 5208, 'neorealism': 5209, 'resides': 5210, 'neighbor': 5211, 'fumigation': 5212, 'streets': 5213, 'turnaround': 5214, 'indicates': 5215, 'teaching': 5216, 'hyperactive': 5217, 'outbreak': 5218, 'admired': 5219, 'directs': 5220, 'levity': 5221, 'rogue': 5222, 'consisting': 5223, 'alley': 5224, 'urinate': 5225, 'dan': 5226, 'applies': 5227, 'disclosing': 5228, 'suffered': 5229, 'google': 5230, 'bluff': 5231, 'obtaining': 5232, 'ensue': 5233, 'incongruent': 5234, 'dealing': 5235, 'instinctive': 5236, 'mistrust': 5237, 'fitted': 5238, 'bloodshed': 5239, 'realworld': 5240, 'increasing': 5241, 'cohen': 5242, 'resulting': 5243, 'irresistible': 5244, 'indriguing': 5245, 'celebration': 5246, 'motto': 5247, 'whichever': 5248, 'artistically': 5249, 'exponentially': 5250, 'overdramatic': 5251, 'april': 5252, 'snow': 5253, 'bearable': 5254, 'exaggeration': 5255, 'drope': 5256, 'dragging': 5257, 'conflicting': 5258, 'convenience': 5259, 'uninteresting': 5260, 'overhyped': 5261, 'letter': 5262, 'bringing': 5263, 'enlightening': 5264, 'casualty': 5265, 'elaborates': 5266, 'checked': 5267, 'maffia': 5268, 'troll': 5269, 'jury': 5270, 'overacting': 5271, 'enterntaining': 5272, 'thrillerish': 5273, 'otherwordly': 5274, 'apprehensive': 5275, 'proved': 5276, 'solution': 5277, 'unanimous': 5278, 'register': 5279, 'posted': 5280, 'poem': 5281, 'dissapointed': 5282, 'oled': 5283, 'featured': 5284, '250': 5285, \"'snow\": 5286, 'dwarf': 5287, '1937': 5288, \"'from\": 5289, 'dusk': 5290, '1996': 5291, 'occurred': 5292, 'outset': 5293, 'exaggerated': 5294, 'akin': 5295, 'contestant': 5296, \"'krypton\": 5297, 'health': 5298, 'safety': 5299, 'cheeky': 5300, 'psychotic': 5301, 'liken': 5302, 'quantify': 5303, 'classed': 5304, '635': 5305, '67': 5306, 'gore': 5307, 'mold': 5308, 'realm': 5309, 'almodovar': 5310, '104': 5311, 'knowledged': 5312, '😳': 5313, 'pulp': 5314, 'shawshank': 5315, 'wook': 5316, 'overrate': 5317, 'sweenie': 5318, 'todd': 5319, 'unbeleivable': 5320, 'ghoulish': 5321, 'gory': 5322, 'slasher': 5323, 'marriage': 5324, 'sensationalist': 5325, 'tedium': 5326, '166': 5327, 'witness': 5328, 'thd': 5329, '101': 5330, 'exceeded': 5331, 'lightning': 5332, 'btw': 5333, 'sir': 5334, 'ocean': 5335, 'heisting': 5336, 'manual': 5337, 'camerawork': 5338, 'representation': 5339, 'parallel': 5340, 'flooding': 5341, 'hitchcokian': 5342, 'landed': 5343, 'excruciatingly': 5344, 'confection': 5345, 'bracing': 5346, 'cynicism': 5347, 'clarion': 5348, 'unpeeling': 5349, 'onion': 5350, 'tremendously': 5351, 'atop': 5352, 'demanding': 5353, 'investment': 5354, 'innate': 5355, 'binge': 5356, 'suprised': 5357, 'overtake': 5358, 'aunt': 5359, '155': 5360, 'exploiting': 5361, 'ill': 5362, 'awesone': 5363, 'dissapear': 5364, 'plead': 5365, 'gaining': 5366, 'intention': 5367, 'believeable': 5368, 'nonetheless': 5369, 'suprisingly': 5370, 'stylistic': 5371, 'scampering': 5372, 'yhe': 5373, 'depends': 5374, 'option': 5375, 'paper': 5376, 'sui': 5377, 'generis': 5378, 'usage': 5379, 'base': 5380, 'joyousness': 5381, 'emanating': 5382, 'colourful': 5383, 'essence': 5384, 'extolling': 5385, 'needle': 5386, 'knitted': 5387, 'supervised': 5388, 'showcased': 5389, 'dependency': 5390, 'prison': 5391, 'solidified': 5392, 'gala': 5393, 'romania': 5394, 'returned': 5395, 'discussing': 5396, 'stars': 5397, 'connoisseur': 5398, 'fresco': 5399, 'informative': 5400, 'traveler': 5401, 'favela': 5402, 'coexist': 5403, 'peacefully': 5404, 'peeled': 5405, 'nurture': 5406, 'scamming': 5407, 'psychopath': 5408, 'official': 5409, 'promoted': 5410, '178': 5411, '338': 5412, 'chart': 5413, 'esp': 5414, 'bollywood': 5415, 'reginition': 5416, 'playful': 5417, 'absurdly': 5418, 'cautiously': 5419, 'perceive': 5420, 'controlling': 5421, 'underwhelmed': 5422, 'mildly': 5423, 'frustrated': 5424, 'grant': 5425, 'reasonably': 5426, 'preceding': 5427, 'convincingly': 5428, 'clue': 5429, 'insulting': 5430, 'obscure': 5431, 'leaning': 5432, 'pointlessness': 5433, 'wilder': 5434, 'illustrates': 5435, 'xxi': 5436, 'mobility': 5437, 'fatalistic': 5438, 'bettering': 5439, 'test': 5440, 'culmination': 5441, 'friday': 5442, '13th': 5443, 'murderer': 5444, 'sex': 5445, 'unjusitfiably': 5446, 'snub': 5447, 'ladened': 5448, 'frontrunner': 5449, 'invades': 5450, 'characterized': 5451, 'friendliness': 5452, 'habitus': 5453, 'relation': 5454, 'hardship': 5455, 'normal': 5456, 'unite': 5457, 'enemy': 5458, 'interact': 5459, 'rapid': 5460, 'passed': 5461, 'parsimoniously': 5462, 'judiciously': 5463, 'counterpoint': 5464, 'accelerated': 5465, 'avoids': 5466, 'counts': 5467, 'illustration': 5468, 'dingy': 5469, 'devise': 5470, 'immense': 5471, 'biter': 5472, 'imminent': 5473, 'assist': 5474, 'occur': 5475, 'occurrence': 5476, 'briefly': 5477, 'provokes': 5478, 'nervous': 5479, 'suddenness': 5480, 'daunting': 5481, 'predator': 5482, 'numb': 5483, 'gaze': 5484, 'concern': 5485, 'ethnicity': 5486, 'dinner': 5487, 'flamboyance': 5488, 'ordinary': 5489, 'bothered': 5490, 'neo': 5491, 'randomness': 5492, 'ducked': 5493, 'soul': 5494, 'silence': 5495, 'signed': 5496, 'apocalypse': 5497, 'outloud': 5498, 'overdramatize': 5499, 'mundane': 5500, 'authorities': 5501, 'detective': 5502, 'pieced': 5503, 'cellar': 5504, 'sitter': 5505, 'invite': 5506, 'stranger': 5507, 'frustrating': 5508, \"'came\": 5509, 'realized': 5510, 'thrilled': 5511, 'pushed': 5512, 'interweave': 5513, 'actors': 5514, 'collaborator': 5515, 'intertextuality': 5516, 'enthusiast': 5517, 'monumental': 5518, 'warns': 5519, 'overlook': 5520, 'te': 5521, '11': 5522, '19': 5523, 'wretched': 5524, 'descends': 5525, 'notions': 5526, 'retold': 5527, 'predominately': 5528, 'stirred': 5529, 'caustic': 5530, 'reactive': 5531, 'ranging': 5532, 'paradox': 5533, 'alfonso': 5534, 'autobiographical': 5535, 'baker': 5536, 'financial': 5537, 'crisis': 5538, 'florida': 5539, 'paul': 5540, 'feig': 5541, 'bridesmaid': 5542, 'prototype': 5543, 'unimaginable': 5544, 'inner': 5545, 'demon': 5546, 'cholera': 5547, 'uncertainty': 5548, 'buzziest': 5549, 'accomplishment': 5550, 'surgically': 5551, 'reinvigorating': 5552, 'nabbing': 5553, 'polarizing': 5554, 'aging': 5555, 'era': 5556, 'rowdy': 5557, 'tentpoles': 5558, 'christopher': 5559, '160': 5560, 'russian': 5561, 'crushing': 5562, 'craftsmanship': 5563, 'managing': 5564, 'procedures': 5565, 'profitable': 5566, 'comes': 5567, 'slice': 5568, 'proving': 5569, 'conquer': 5570, 'knockout': 5571, 'glance': 5572, 'mute': 5573, 'premium': 5574, 'device': 5575, 'centerpiece': 5576, 'montage': 5577, 'cadence': 5578, 'anticipation': 5579, 'intends': 5580, 'spring': 5581, 'blurring': 5582, 'magnetic': 5583, 'banjiha': 5584, 'catching': 5585, 'picturing': 5586, 'victimizer': 5587, 'correspondence': 5588, 'race': 5589, 'paramount': 5590, 'wining': 5591, 'works': 5592, 'backbone': 5593, 'sag': 5594, 'tangible': 5595, 'hollow': 5596, 'caricatures': 5597, 'crossing': 5598, 'apocalyptic': 5599, 'owning': 5600, 'spice': 5601, 'metaphors': 5602, 'owes': 5603, 'crucial': 5604, 'blocking': 5605, 'precision': 5606, 'voyeuristic': 5607, 'delight': 5608, 'led': 5609, 'cocktail': 5610, 'sophistication': 5611, 'softness': 5612, 'hungry': 5613, 'shaping': 5614, 'elegant': 5615, 'crowning': 5616, 'healed': 5617, 'tout': 5618, 'fait': 5619, 'reimagined': 5620, 'lens': 5621, 'socially': 5622, 'committed': 5623, 'paved': 5624, 'groundbreaking': 5625, 'futility': 5626, 'soil': 5627, 'nine': 5628, 'characters': 5629, '200': 5630, 'meter': 5631, 'immortality': 5632, 'perform': 5633, 'ceremonial': 5634, 'perish': 5635, 'pendant': 5636, 'reappears': 5637, 'invincible': 5638, 'demonic': 5639, 'pursuit': 5640, 'slam': 5641, 'theory': 5642, 'cheated': 5643, 'presenting': 5644, 'holds': 5645, 'barred': 5646, 'player': 5647, 'drastically': 5648, 'connect': 5649, '1998': 5650, 'heavyweight': 5651, 'capable': 5652, 'raider': 5653, 'ark': 5654, 'retooled': 5655, 'dud': 5656, 'oddly': 5657, 'besieged': 5658, 'shockingly': 5659, 'racing': 5660, '109': 5661, '136': 5662, 'translating': 5663, 'separately': 5664, 'occasionally': 5665, 'narrator': 5666, 'summarizes': 5667, 'confusion': 5668, 'bombed': 5669, 'fel': 5670, 'recounting': 5671, 'baffled': 5672, 'picky': 5673, 'giggle': 5674, 'complimentary': 5675, 'outright': 5676, 'dumbest': 5677, 'grave': 5678, 'cheesiest': 5679, 'trapped': 5680, 'cheesiness': 5681, 'til': 5682, 'puh': 5683, 'lease': 5684, 'dragonheart': 5685, 'clive': 5686, 'owen': 5687, 'gryphon': 5688, 'raptor': 5689, 'lighten': 5690, 'mst3k': 5691, 'mashing': 5692, 'hack': 5693, 'meaningless': 5694, 'unmemorable': 5695, 'celluloid': 5696, 'turd': 5697, 'trashy': 5698, '323': 5699, 'intoxicated': 5700, 'thanking': 5701, 'cheering': 5702, 'legged': 5703, 'returning': 5704, 'spider': 5705, 'sleeper': 5706, '213': 5707, '319': 5708, 'parkway': 5709, 'sevierville': 5710, 'tn': 5711, 'risk': 5712, 'thereby': 5713, 'goer': 5714, 'reporting': 5715, 'vehicle': 5716, 'balanced': 5717, 'herein': 5718, 'annals': 5719, 'treatment': 5720, 'outweigh': 5721, 'toho': 5722, 'lent': 5723, 'overridden': 5724, 'detract': 5725, 'effectiveness': 5726, 'lessen': 5727, 'enjoyment': 5728, 'rings': 5729, 'combined': 5730, 'uneven': 5731, 'unprepared': 5732, 'fiend': 5733, 'surpassing': 5734, 'spawn': 5735, 'slithis': 5736, 'stilted': 5737, 'mishmashed': 5738, 'info': 5739, 'gmail': 5740, '248': 5741, '406': 5742, 'goofy': 5743, 'madtv': 5744, 'fuzzy': 5745, 'nonexistent': 5746, 'literal': 5747, 'steer': 5748, 'august': 5749, 'september': 5750, 'expat': 5751, '128': 5752, 'snatched': 5753, 'carnage': 5754, 'batch': 5755, 'varies': 5756, 'determine': 5757, 'robot': 5758, 'compensate': 5759, 'overlong': 5760, 'terminator': 5761, 'achieving': 5762, \"o'clock\": 5763, 'stoned': 5764, 'planted': 5765, 'ambulance': 5766, 'soaking': 5767, 'shout': 5768, 'anger': 5769, 'literature': 5770, 'trusted': 5771, 'dodgy': 5772, 'echo': 5773, 'enhance': 5774, 'accordance': 5775, 'accident': 5776, 'meeting': 5777, 'owned': 5778, 'destroy': 5779, 'devilish': 5780, 'associated': 5781, 'unexpressive': 5782, 'guerra': 5783, 'dragões': 5784, 'mario': 5785, 'bros': 5786, 'bill': 5787, 'shotty': 5788, 'kurt': 5789, 'russell': 5790, 'cattrel': 5791, 'daryl': 5792, 'swear': 5793, 'titled': 5794, 'busty': 5795, 'cop': 5796, 'unenjoyable': 5797, 'tolerance': 5798, 'strangled': 5799, 'irrational': 5800, 'smack': 5801, 'bulk': 5802, 'justifiably': 5803, 'namely': 5804, 'butchered': 5805, 'frowned': 5806, 'plate': 5807, 'aficionado': 5808, 'absorbing': 5809, 'flub': 5810, 'grinding': 5811, '45': 5812, 'rolled': 5813, 'cellphone': 5814, 'endure': 5815, 'piling': 5816, 'canon': 5817, 'fodder': 5818, 'formation': 5819, '90s': 5820, 'numbingly': 5821, 'forgiven': 5822, 'redeemable': 5823, 'item': 5824, 'sooooo': 5825, 'matinée': 5826, \"'ed\": 5827, 'red': 5828, 'attended': 5829, 'tickets': 5830, 'draft': 5831, 'authority': 5832, 'waaaay': 5833, 'soften': 5834, 'frown': 5835, 'shorter': 5836, 'ps3': 5837, 'wii': 5838, 'xbox': 5839, 'stepping': 5840, 'absolutelyf': 5841, 'communal': 5842, 'cardboard': 5843, 'yelling': 5844, 'strontium': 5845, 'cameron': 5846, 'assessment': 5847, 'optimal': 5848, 'finitela': 5849, \"'offense\": 5850, '1993': 5851, 'rampaging': 5852, 'vanish': 5853, 'bland': 5854, 'kristen': 5855, 'stewart': 5856, 'mortal': 5857, 'kombat': 5858, 'devastation': 5859, 'debris': 5860, 'hypnosis': 5861, 'accomplished': 5862, 'unclear': 5863, 'chose': 5864, 'sorriest': 5865, 'strung': 5866, 'discernible': 5867, 'canibalising': 5868, 'reign': 5869, 'gandalf': 5870, 'kitten': 5871, 'henchman': 5872, 'switching': 5873, 'sauron': 5874, 'jaja': 5875, 'bing': 5876, 'was': 5877, 'dependent': 5878, 'intoxication': 5879, 'defines': 5880, 'razzies': 5881, 'drug': 5882, 'alien': 5883, 'rational': 5884, 'engraved': 5885, 'recrimination': 5886, 'hummer': 5887, 'homicidal': 5888, 'hitchhiker': 5889, 'sending': 5890, 'millionaire': 5891, 'strapped': 5892, 'hindsight': 5893, 'guessed': 5894, 'environmentally': 5895, 'recycled': 5896, 'stuttered': 5897, 'suspension': 5898, 'intact': 5899, 'stemming': 5900, 'pawnshop': 5901, 'unseen': 5902, 'sprouted': 5903, 'plots': 5904, 'threatened': 5905, 'miraculous': 5906, 'deposit': 5907, 'angst': 5908, 'liquor': 5909, 'coolest': 5910, 'rasta': 5911, 'amphibian': 5912, 'navy': 5913, 'seals': 5914, 'approximation': 5915, 'kira': 5916, 'knightly': 5917, 'mission': 5918, 'noir': 5919, 'pool': 5920, 'thoughts': 5921, 'raspy': 5922, 'voiced': 5923, 'pointy': 5924, 'armor': 5925, 'yardsale': 5926, 'deleted': 5927, 'lay': 5928, 'drugstore': 5929, 'migraine': 5930, 'puree': 5931, 'dissolved': 5932, 'homogenized': 5933, 'gelatinous': 5934, 'tears': 5935, 'undeserved': 5936, 'promotion': 5937, 'therapy': 5938, 'sleep': 5939, 'cell': 5940, 'punish': 5941, 'unspoken': 5942, 'disintegrates': 5943, 'politically': 5944, 'faced': 5945, 'pandering': 5946, 'perceives': 5947, 'detracts': 5948, 'foreignness': 5949, 'fluff': 5950, 'horde': 5951, 'darth': 5952, 'vader': 5953, 'hoth': 5954, 'law': 5955, 'handful': 5956, 'escaped': 5957, 'macbeth': 5958, 'schlock': 5959, 'filler': 5960, 'ignorantly': 5961, 'terrorism': 5962, 'orchestrated': 5963, 'unelected': 5964, 'dictator': 5965, 'chief': 5966, 'herr': 5967, 'bush': 5968, 'aircraft': 5969, 'buildings': 5970, 'twin': 5971, 'unsure': 5972, 'prettier': 5973, 'naomi': 5974, 'watt': 5975, 'sugar': 5976, 'candy': 5977, 'consensus': 5978, 'reception': 5979, 'ultraman': 5980, 'disagreement': 5981, 'passable': 5982, 'confusingly': 5983, 'mythos': 5984, 'binks': 5985, 'fuss': 5986, 'posting': 5987, 'mirrormask': 5988, 'gattaca': 5989, 'willow': 5990, 'stargate': 5991, 'suspiciously': 5992, 'diversity': 5993, 'desperately': 5994, 'emulate': 5995, 'insanity': 5996, 'buffered': 5997, 'repeated': 5998, 'bait': 5999, 'inscrutable': 6000, 'waved': 6001, 'coherency': 6002, 'heu': 6003, 'mmm': 6004, 'ffff': 6005, 'crappiest': 6006, 'trivia': 6007, 'guardian': 6008, 'galactica': 6009, 'cylons': 6010, 'mounted': 6011, 'dump': 6012, 'infamy': 6013, 'tremor': 6014, 'william': 6015, 'crash': 6016, 'laurence': 6017, 'olivier': 6018, 'dean': 6019, 'cain': 6020, '2003': 6021, 'psychotronic': 6022, 'smog': 6023, 'voyage': 6024, 'sinbad': 6025, 'humanoid': 6026, 'exist': 6027, 'kaiju': 6028, 'distinguished': 6029, 'nonstop': 6030, 'splashy': 6031, 'trendy': 6032, 'fashionable': 6033, 'unintelligent': 6034, 'princess': 6035, 'bride': 6036, 'resemblance': 6037, 'slayer': 6038, 'helper': 6039, 'arse': 6040, 'nether': 6041, 'incorporated': 6042, \"'never\": 6043, 'horrendous': 6044, 'distinguishing': 6045, 'applaud': 6046, 'inept': 6047, \"it's\": 6048, 'homeless': 6049, 'skeet': 6050, 'ulrich': 6051, 'aimee': 6052, 'garcia': 6053, 'homely': 6054, 'legendary': 6055, 'faux': 6056, 'decimated': 6057, 'supporter': 6058, 'approximately': 6059, 'iraq': 6060, 'copter': 6061, 'kablooey': 6062, 'resumé': 6063, 'nominee': 6064, 'appearance': 6065, 'recognizable': 6066, 'occasional': 6067, 'retain': 6068, 'accepted': 6069, 'armagedon': 6070, 'matched': 6071, 'orks': 6072, 'transported': 6073, 'evenyone': 6074, 'stubbornly': 6075, 'highlander': 6076, '4th': 6077, 'crow': 6078, 'flung': 6079, 'cornered': 6080, 'thug': 6081, 'grudgingly': 6082, 'isolated': 6083, 'faulted': 6084, 'panic': 6085, 'trates': 6086, 'unredeemable': 6087, 'baaad': 6088, 'heat': 6089, 'tea': 6090, 'nationalist': 6091, \"'their\": 6092, 'childish': 6093, 'server': 6094, 'starwars': 6095, 'hawk': 6096, 'cluster': 6097, 'flop': 6098, 'relying': 6099, 'relied': 6100, \"'crouchint\": 6101, 'characteristic': 6102, 'suspected': 6103, 'overboard': 6104, 'jerry': 6105, 'springer': 6106, 'usd': 6107, 'mil': 6108, 'especailly': 6109, 'medallion': 6110, 'showtime': 6111, 'arabia': 6112, 'kuwait': 6113, 'criticism': 6114, 'anemic': 6115, 'dept': 6116, 'significant': 6117, 'jargon': 6118, 'nbc': 6119, 'elizabeth': 6120, 'pena': 6121, 'agent': 6122, 'sec': 6123, 'tightened': 6124, 'yr': 6125, 'ishtar': 6126, 'bolero': 6127, 'ape': 6128, 'uhg': 6129, 'resume': 6130, 'killer': 6131, 'stinkin': 6132, 'informed': 6133, 'projector': 6134, 'ball': 6135, 'claymation': 6136, 'cap': 6137, 'headache': 6138, \"'men\": 6139, 'agreement': 6140, 'statementsthis': 6141, 'unskillful': 6142, 'crouching': 6143, 'insufficient': 6144, 'contentsthe': 6145, 'separated': 6146, 'contribution': 6147, 'skeletton': 6148, 'prob': 6149, 'cope': 6150, 'heroism': 6151, 'fairytale': 6152, 'savior': 6153, 'disposed': 6154, 'renewing': 6155, 'thoughtless': 6156, 'salacious': 6157, 'affair': 6158, 'strogly': 6159, 'favored': 6160, 'brainer': 6161, 'philosophy': 6162, 'tansformer': 6163, 'wiped': 6164, 'jewish': 6165, 'virus': 6166, 'unbeatable': 6167, 'cube': 6168, 'bloating': 6169, 'winners': 6170, '10godzilla': 6171, 'ummmmm': 6172, 'escaping': 6173, 'stroll': 6174, 'disappear': 6175, 'marketed': 6176, '027': 6177, 'logged': 6178, 'healthy': 6179, 'fart': 6180, 'strayed': 6181, 'cycle': 6182, 'starry': 6183, 'wander': 6184, 'spared': 6185, 'skipped': 6186, 'amc': 6187, 'distracting': 6188, 'conceived': 6189, 'barbie': 6190, 'begging': 6191, 'shirt': 6192, 'dreadful': 6193, 'resemble': 6194, 'michelle': 6195, 'costumed': 6196, 'buffy': 6197, 'flannel': 6198, 'vaguely': 6199, 'vicks': 6200, 'keen': 6201, 'monty': 6202, 'python': 6203, 'cat': 6204, 'salivating': 6205, 'listening': 6206, 'hop': 6207, 'unmoved': 6208, 'vanishes': 6209, 'disappears': 6210, 'pogo': 6211, 'ends': 6212, 'friggin': 6213, \"'motion\": 6214, 'harm': 6215, 'choked': 6216, 'unimpressive': 6217, 'deadly': 6218, 'kindergarten': 6219, 'mature': 6220, 'underrated': 6221, 'rely': 6222, 'tasty': 6223, 'disney': 6224, 'irritating': 6225, 'hardcore': 6226, 'advert': 6227, 'inappropriate': 6228, 'flush': 6229, 'dilettantish': 6230, 'obligatory': 6231, \"'starwars\": 6232, \"'hidden\": 6233, 'eternally': 6234, 'mexico': 6235, 'ruined': 6236, 'unremarkable': 6237, 'sequences': 6238, 'nerd': 6239, 'brow': 6240, 'plea': 6241, 'peril': 6242, 'yonggu': 6243, 'toured': 6244, 'digital': 6245, 'located': 6246, 'secluded': 6247, 'kimpo': 6248, 'airport': 6249, 'phased': 6250, 'preceded': 6251, 'extended': 6252, 'conception': 6253, 'misnomer': 6254, 'mastered': 6255, 'grossing': 6256, 'dynasty': 6257, 'ply': 6258, 'de': 6259, 'films': 6260, 'will': 6261, 'answered': 6262, 'breathe': 6263, 'sigh': 6264, 'relief': 6265, 'dreamy': 6266, 'kendricks': 6267, 'soldiers': 6268, 'figured': 6269, 'droids': 6270, 'clad': 6271, 'armour': 6272, 'metal': 6273, 'stored': 6274, 'safely': 6275, 'newborn': 6276, 'preserved': 6277, 'glass': 6278, 'replica': 6279, 'winded': 6280, 'pressing': 6281, 'emanate': 6282, 'evolved': 6283, 'morph': 6284, 'defiant': 6285, 'goseong': 6286, 'myriad': 6287, 'fish': 6288, 'annong': 6289, 'irene': 6290, 'nakano': 6291, 'mail': 6292, 'yonsei': 6293, 'mac': 6294, 'divorced': 6295, 'scat': 6296, 'studying': 6297, 'winter': 6298, 'verify': 6299, 'constitutes': 6300, 'spiteful': 6301, 'irritated': 6302, 'polluting': 6303, 'monkey': 6304, 'discombobulated': 6305, 'preteen': 6306, 'strangle': 6307, 'fortunately': 6308, 'preferred': 6309, 'relive': 6310, 'revolved': 6311, 'decedent': 6312, 'prophecy': 6313, 'convenient': 6314, 'annihilation': 6315, 'spiel': 6316, 'rescue': 6317, 'unstoppable': 6318, 'magically': 6319, 'craptastic': 6320, 'typo': 6321, 'judge': 6322, 'avenger': 6323, 'caribbean': 6324, 'crab': 6325, 'carrying': 6326, 'sparrow': 6327, 'orphanage': 6328, 'weta': 6329, 'static': 6330, 'partial': 6331, 'puppet': 6332, 'areas': 6333, 'dumpster': 6334, 'enlightened': 6335, 'distribution': 6336, 'sounding': 6337, 'lingo': 6338, 'primarly': 6339, 'redubed': 6340, 'pollicaly': 6341, 'corrected': 6342, 'spending': 6343, 'holly': 6344, 'drunken': 6345, 'uninspired': 6346, 'acceptable': 6347, 'waster': 6348, 'stil': 6349, 'ps2': 6350, '1990': 6351, 'grader': 6352, 'phenomenally': 6353, 'lump': 6354, 'stayed': 6355, 'fandango': 6356, 'ed': 6357, 'stink': 6358, '2nd': 6359, 'disappointment': 6360, 'parking': 6361, 'examined': 6362, 'lapse': 6363, 'gist': 6364, 'nailed': 6365, 'f': 6366, 'bye': 6367, 'hybrid': 6368, 'shall': 6369, 'nameless': 6370, 'muted': 6371, 'autobots': 6372, 'decepticons': 6373, 'zimmer': 6374, 'troupe': 6375, 'learned': 6376, 'interruption': 6377, 'inconsistency': 6378, 'scenes': 6379, 'patriot': 6380, 'assuming': 6381, '10s': 6382, 'starcraft': 6383, 'visualize': 6384, 'arisen': 6385, 'voting': 6386, 'patriotismpeople': 6387, 'frantic': 6388, 'nationalitysomewhat': 6389, 'amplifies': 6390, 'eager': 6391, 'advertise': 6392, 'cguntil': 6393, 'imported': 6394, 'directorthe': 6395, \"'hyung\": 6396, 'costing': 6397, 'supportive': 6398, 'shocks': 6399, 'jeju': 6400, 'stolen': 6401, 'launch': 6402, 'worn': 6403, 'beware': 6404, 'sequencing': 6405, 'blissful': 6406, 'suspend': 6407, 'places': 6408, 'delicate': 6409, 'overcomplicated': 6410, 'plausibility': 6411, 'yeuuuu': 6412, 'varied': 6413, 'infuse': 6414, 'stressful': 6415, 'liar': 6416, 'namer': 6417, 'scrutinizing': 6418, 'converge': 6419, 'popularity': 6420, 'shiri': 6421, 'vengeance': 6422, 'external': 6423, 'orient': 6424, 'league': 6425, 'stole': 6426, 'sooooooooooooooo': 6427, 'registered': 6428, 'lastly': 6429, 'ought': 6430, 'dubious': 6431, 'elevate': 6432, 'spoilt': 6433, 'hackneyed': 6434, 'hopelessly': 6435, 'charisma': 6436, 'structurally': 6437, 'lumbered': 6438, 'climatic': 6439, 'bethany': 6440, 'cox': 6441, 'stepped': 6442, 'soap': 6443, 'opera': 6444, 'glue': 6445, 'incapable': 6446, 'beard': 6447, 'goatees': 6448, 'survey': 6449, 'higglety': 6450, 'pigglety': 6451, 'sidekick': 6452, 'nauseating': 6453, 'abandoning': 6454, 'readily': 6455, 'explainable': 6456, 'roasted': 6457, 'alternate': 6458, 'pusan': 6459, 'fiasco': 6460, 'fuming': 6461, 'congratulations': 6462, 'secondo': 6463, 'saphira': 6464, 'fur': 6465, 'stun': 6466, 'magnificence': 6467, 'surplus': 6468, 'twaddle': 6469, 'quarter': 6470, 'intuition': 6471, 'commentator': 6472, 'emphasized': 6473, 'unbelievably': 6474, 'cracking': 6475, 'shell': 6476, 'prance': 6477, 'abominable': 6478, 'smidgen': 6479, 'chewing': 6480, 'powered': 6481, 'eater': 6482, 'worthier': 6483, 'endeavor': 6484, 'reprinted': 6485, 'yvonne': 6486, 'navarro': 6487, 'livejournal': 6488, 'doom': 6489, 'intended': 6490, 'truthfully': 6491, 'conundrum': 6492, 'marble': 6493, 'were': 6494, 'animal': 6495, 'harmed': 6496, 'overzealous': 6497, 'mentality': 6498, 'whining': 6499, 'misperception': 6500, 'sabotaging': 6501, 'ratings': 6502, 'spew': 6503, 'unified': 6504, '09': 6505, 'negate': 6506, 'lonely': 6507, 'introverted': 6508, 'nutjobs': 6509, 'babied': 6510, 'opinions': 6511, 'spiderman3': 6512, 'fantastic4ii': 6513, 'negating': 6514, 'swarmed': 6515, 'tallied': 6516, '75': 6517, 'exuberant': 6518, 'monday': 6519, 'exuberance': 6520, \"'false\": 6521, 'nationalism': 6522, 'attempting': 6523, 'smear': 6524, 'sf': 6525, 'withhold': 6526, 'perpetual': 6527, 'discourage': 6528, 'yeoiju': 6529, 'scence': 6530, 'drangonball': 6531, 'goku': 6532, 'fought': 6533, \"'am\": 6534, 'threatening': 6535, 'yup': 6536, 'related': 6537, 'yourself': 6538, 'abbreviated': 6539, 'incoherently': 6540, 'passion': 6541, \"'cool\": 6542, 'marshall': 6543, 'mcluhan': 6544, 'orchestration': 6545, 'construction': 6546, 'intent': 6547, 'deny': 6548, 'analyse': 6549, 'kicking': 6550, 'jurasic': 6551, 'dianosours': 6552, 'satisfaction': 6553, 'coward': 6554, 'brave': 6555, 'homeland': 6556, 'ilm': 6557, 'airplane': 6558, 'tempted': 6559, 'controversy': 6560, 'cloud': 6561, 'influential': 6562, 'frustrates': 6563, 'heinous': 6564, 'gobbled': 6565, '7000': 6566, 'agrees': 6567, 'freestyle': 6568, 'realising': 6569, 'encouraged': 6570, '1500': 6571, 'unthinkable': 6572, 'tremendous': 6573, 'amounted': 6574, 'visited': 6575, 'ensued': 6576, 'homosexuality': 6577, 'marketer': 6578, 'homosexual': 6579, 'tasteless': 6580, 'harmful': 6581, 'pornographic': 6582, 'improved': 6583, 'drawing': 6584, 'contaminated': 6585, 'sickeningly': 6586, 'disgusting': 6587, 'hospital': 6588, 'appendix': 6589, 'removed': 6590, 'frontal': 6591, 'nationalistic': 6592, 'duty': 6593, 'exported': 6594, 'doooooooooo': 6595, 'cg': 6596, 'until': 6597, 'nationality': 6598, 'communism': 6599, 'warm': 6600, 'weighting': 6601, 'limit': 6602, 'contain': 6603, 'stank': 6604, 'ignoble': 6605, 'commercial': 6606, 'fantastical': 6607, 'spell': 6608, 'available': 6609, 'fined': 6610, 'spoof': 6611, 'silliness': 6612, 'childishly': 6613, 'rough': 6614, 'comedical': 6615, 'wowed': 6616, 'creativeness': 6617, 'audiences': 6618, 'reduced': 6619, \"'uh\": 6620, 'oh': 6621, '30mins': 6622, 'suing': 6623, 'prideful': 6624, 'authoritarian': 6625, 'idiot': 6626, 'proofread': 6627, 'banned': 6628, 'map': 6629, 'cheek': 6630, 'vegetable': 6631, 'lausybut': 6632, 'movi̇e': 6633, 'effectsoh': 6634, 'rab': 6635, 'dumper': 6636, 'rude': 6637, 'knowladge': 6638, 'dictionary': 6639, 'allah': 6640, 'regardessly': 6641, 'hulking': 6642, 'evolution': 6643, 'collaboration': 6644, 'inexperienced': 6645, 'eagle': 6646, 'slumming': 6647, 'mentor': 6648, 'massed': 6649, 'pitched': 6650, 'maximum': 6651, 'monstrosity': 6652, 'compelled': 6653, 'typed': 6654, 'shamefully': 6655, 'genetic': 6656, 'overwhelmingly': 6657, 'washed': 6658, 'dated': 6659, 'starfighter': 6660, 'hopping': 6661, 'putrescent': 6662, 'presumably': 6663, 'folktale': 6664, 'combat': 6665, 'owns': 6666, 'heavenly': 6667, 'warriors': 6668, 'abysmal': 6669, 'laughability': 6670, 'potentially': 6671, 'gamers': 6672, 'extrem': 6673, 'crumb': 6674, 'fairy': 6675, 'valuable': 6676, 'respecting': 6677, 'heel': 6678, \"'stranger\": 6679, 'listens': 6680, 'attentively': 6681, 'werther': 6682, 'millennium': 6683, 'transform': 6684, 'aided': 6685, 'bulcos': 6686, 'squadron': 6687, 'dawdler': 6688, 'narrowly': 6689, 'thwarted': 6690, 'yoo': 6691, 'appointed': 6692, 'floppy': 6693, 'encounter': 6694, 'colossal': 6695, 'walton': 6696, 'diabolical': 6697, 'wrestling': 6698, 'inanity': 6699, 'page': 6700, 'complained': 6701, 'function': 6702, 'inoffensive': 6703, 'blink': 6704, 'quantum': 6705, 'solace': 6706, 'malasia': 6707, 'luingit': 6708, 'uppercut': 6709, 'racist': 6710, 'xenophobic': 6711, 'kingkong': 6712, 'gozzila': 6713, 'ear': 6714, 'bleed': 6715, 'raid': 6716, 'easten': 6717, 'dissent': 6718, 'less': 6719, 'tolkien': 6720, 'submit': 6721, 'dishonor': 6722, 'overblown': 6723, 'disjointed': 6724, 'projected': 6725, 'interacting': 6726, 'amused': 6727, 'evoked': 6728, 'spectacularly': 6729, 'unconvincing': 6730, \"'deep\": 6731, 'leftover': 6732, 'smashed': 6733, \"'lady\": 6734, 'outrageous': 6735, 'ubiquitous': 6736, 'scott': 6737, 'disheartening': 6738, 'consolation': 6739, \"o'toole\": 6740, \"'phantoms\": 6741, 'preposterous': 6742, \"'reflections\": 6743, 'folks': 6744, 'offending': 6745, 'inclusion': 6746, 'busting': 6747, 'submits': 6748, 'report': 6749, 'odds': 6750, 'ego': 6751, 'undergraduate': 6752, 'minus': 6753, 'guaranteed': 6754, 'siskel': 6755, \"'is\": 6756, \"'no\": 6757, 'supplement': 6758, \"'reported\": 6759, 'stubbornness': 6760, 'roger': 6761, 'ebert': 6762, 'werner': 6763, 'steamboat': 6764, 'gamble': 6765, 'axis': 6766, 'odious': 6767, 'shaped': 6768, 'tattoo': 6769, 'searched': 6770, 'joyride': 6771, 'haired': 6772, 'wipe': 6773, 'kendrik': 6774, 'roughed': 6775, 'sufficiently': 6776, 'mussed': 6777, 'royally': 6778, 'lizards': 6779, 'allied': 6780, 'blundering': 6781, 'botched': 6782, 'jaded': 6783, 'blasé': 6784, 'c': 6785, 'exceptionally': 6786, 'haywire': 6787, 'dimwit': 6788, 'realistically': 6789, 'pathetically': 6790, 'ludicrous': 6791, 'burst': 6792, 'uncontrollable': 6793, 'savagely': 6794, 'mercilessly': 6795, 'publicly': 6796, 'protest': 6797, 'belief': 6798, 'sorta': 6799, 'cloverfield': 6800, 'sappy': 6801, 'booted': 6802, 'reeking': 6803, 'counselling': 6804, 'linkage': 6805, 'randytz': 6806, 'appleseed': 6807, 'vii': 6808, 'advent': 6809, 'beowulf': 6810, 'diector': 6811, 'abuse': 6812, 'smoking': 6813, 'alcohol': 6814, 'transmigrationism': 6815, 'hegelian': 6816, 'digilog': 6817, 'devastate': 6818, 'investigate': 6819, 'wreaking': 6820, 'unintentionally': 6821, 'unintentional': 6822, 'extensive': 6823, 'outing': 6824, '70': 6825, 'dagger': 6826, 'narrates': 6827, 'shaman': 6828, 'ward': 6829, 'entrusted': 6830, 'activated': 6831, 'ravage': 6832, 'kingdom': 6833, 'ordered': 6834, 'flee': 6835, 'cliff': 6836, 'incarnation': 6837, 'nears': 6838, 'proscribed': 6839, 'caste': 6840, 'feudalism': 6841, 'tenderness': 6842, 'grief': 6843, 'missile': 6844, 'courage': 6845, 'la': 6846, 'organize': 6847, 'untainted': 6848, 'nullified': 6849, 'overlapping': 6850, 'by': 6851, 'bi': 6852, 'lingual': 6853, 'slurred': 6854, 'nick': 6855, 'adam': 6856, 'astro': 6857, 'hamming': 6858, 'smashing': 6859, 'intrusive': 6860, 'intrude': 6861, 'federal': 6862, 'officer': 6863, 'quasi': 6864, 'climactic': 6865, 'garage': 6866, 'subordinate': 6867, 'blossoming': 6868, 'younggu': 6869, 'britain': 6870, 'pixar': 6871, 'easter': 6872, 'egg': 6873, 'founded': 6874, 'nostalgia': 6875, \"c'mon\": 6876, 'poll': 6877, 'classifying': 6878, 'bootleg': 6879, 'yah': 6880, 'elaborated': 6881, 'wisdom': 6882, 'coast': 6883, 'afterall': 6884, 'shitty': 6885, 'teenager': 6886, 'bear': 6887, 'jumped': 6888, 'demonstrate': 6889, 'bargain': 6890, 'bin': 6891, '99': 6892, 'riped': 6893, 'nah': 6894, 'nonchalant': 6895, 'behave': 6896, 'slap': 6897, 'omg': 6898, 'amusement': 6899, 'heckling': 6900, 'chunky': 6901, 'sky': 6902, 'scraper': 6903, 'brick': 6904, 'reek': 6905, 'hastily': 6906, 'demolished': 6907, 'thousand': 6908, 'grunting': 6909, 'guttural': 6910, 'epithet': 6911, 'dumped': 6912, 'mythology': 6913, 'wast': 6914, 'require': 6915, 'dennis': 6916, 'quaid': 6917, 'connery': 6918, 'overlord': 6919, 'misinformation': 6920, 'prosperity': 6921, 'turkey': 6922, 'steve': 6923, 'jablonsky': 6924, 'yuna': 6925, 'olympic': 6926, 'champion': 6927, 'skated': 6928, 'routine': 6929, 'track': 6930, \"'sweet\": 6931, 'parroting': 6932, 'swiss': 6933, 'rear': 6934, 'jane': 6935, 'austen': 6936, 'bukai': 6937, 'swallowed': 6938, 'fireball': 6939, 'darrell': 6940, 'obtained': 6941, 'commenting': 6942, 'mcu': 6943, 'hypocrites': 6944, '2021': 6945, 'shang': 6946, 'shi': 6947, 'int': 6948, 'file': 6949, 'legal': 6950, 'trading': 6951, 'limbo': 6952, 'casual': 6953, 'travesty': 6954, 'stare': 6955, 'ceiling': 6956, 'foremost': 6957, 'gnat': 6958, 'creatures': 6959, 'downside': 6960, 'relic': 6961, 'unharmed': 6962, 'prematurely': 6963, 'erasing': 6964, 'temporal': 6965, 'contemplating': 6966, 'debacle': 6967, 'elementary': 6968, 'attend': 6969, 'recount': 6970, 'eliminate': 6971, 'male': 6972, 'female': 6973, 'cheerleader': 6974, 'outfit': 6975, 'yell': 6976, 'coz': 6977, '😍😍😍😍': 6978, 'worthless': 6979, 'machines': 6980, 'launching': 6981, 'impish': 6982, 'format': 6983, 'folklore': 6984, 'offense': 6985, 'stormed': 6986, 'whisper': 6987, 'reached': 6988, 'vigorously': 6989, 'freakin': 6990, 'newspaper': 6991, 'joking': 6992, 'excelled': 6993, 'trilogy': 6994, 'aforementioned': 6995, 'stem': 6996, 'satellite': 6997, 'hectic': 6998, 'relaxing': 6999, 'dusty': 7000, 'joyful': 7001, 'saving': 7002, 'ryan': 7003, 'grew': 7004, 'chronicle': 7005, 'frickin': 7006, 'lowered': 7007, 'equivalent': 7008, 'promoting': 7009, 'serpents': 7010, 'coiled': 7011, 'myth': 7012, 'absent': 7013, 'armed': 7014, 'geared': 7015, 'ravine': 7016, 'max': 7017, 'minimal': 7018, 'translator': 7019, 'compiled': 7020, 'experimental': 7021, 'compact': 7022, 'itself': 7023, 'tracer': 7024, 'incessantly': 7025, 'shaking': 7026, 'cameras': 7027, 'bird': 7028, 'crude': 7029, \"'acting\": 7030, \"terrible'\": 7031, 'canada': 7032, 'sloppy': 7033, 'applauding': 7034, 'ca': 7035, 'slobbering': 7036, 'worsethan': 7037, 'assuredly': 7038, 'largely': 7039, 'dinos': 7040, 'mlrs': 7041, 'arty': 7042, 'tactic': 7043, 'radius': 7044, 'raise': 7045, 'astounds': 7046, 'kissy': 7047, 'encountered': 7048, 'crapped': 7049, 'puke': 7050, 'screamed': 7051, 'inferiority': 7052, 'investor': 7053, 'pricey': 7054, 'unimás': 7055, 'telefutura': 7056, 'spanish': 7057, 'chock': 7058, 'braggin': 7059, 'toy': 7060, 'terrorizing': 7061, 'kickass': 7062, 'retta': 7063, 'gardell': 7064, 'respectively': 7065, 'recreation': 7066, 'mike': 7067, 'molly': 7068, 'adjourn': 7069, 'included': 7070, 'bonus': 7071, 'haim': 7072, 'saban': 7073, 'shuki': 7074, 'levy': 7075, 'incompatible': 7076, 'footage': 7077, 'david': 7078, 'yost': 7079, 'amy': 7080, 'johnson': 7081, 'candidly': 7082, 'outrageously': 7083, 'nerdy': 7084, 'maiden': 7085, 'blond': 7086, 'amerian': 7087, 'implausibility': 7088, 'hazel': 7089, 'thirty': 7090, 'biologically': 7091, 'adolescent': 7092, 'spite': 7093, 'boastful': 7094, 'conclusively': 7095, 'artificially': 7096, 'gluing': 7097, 'disastrous': 7098, 'hamlet': 7099, 'taegukgi': 7100, 'joongechun': 7101, 'milky': 7102, 'tracing': 7103, 'chopper': 7104, 'confront': 7105, 'dune': 7106, 'shield': 7107, 'bullet': 7108, 'carrier': 7109, 'superior': 7110, 'blizzard': 7111, 'demonicus': 7112, 'wrapped': 7113, 'unshaken': 7114, 'certainty': 7115, 'rose': 7116, 'sweeter': 7117, 'sour': 7118, 'tickle': 7119, 'shined': 7120, 'cleansed': 7121, 'cosmos': 7122, 'diner': 7123, 'acknowledged': 7124, 'ranged': 7125, 'hunted': 7126, 'beamer': 7127, 'caucasion': 7128, 'superstar': 7129, 'optimus': 7130, 'behaves': 7131, 'hanging': 7132, 'request': 7133, 'hoped': 7134, 'insult': 7135, 'invade': 7136, 'granny': 7137, 'arthritis': 7138, 'crushed': 7139, 'slashed': 7140, 'slain': 7141, 'captured': 7142, 'escort': 7143, 'remaining': 7144, 'loos': 7145, 'waving': 7146, 'mph': 7147, 'precious': 7148, 'frequently': 7149, 'miniature': 7150, \"'dragon\": 7151, 'praying': 7152, 'gaming': 7153, 'amstrad': 7154, \"'jackie\": 7155, 'things': 7156, 'plunge': 7157, 'outer': 7158, 'phantom': 7159, 'menace': 7160, 'custody': 7161, 'whoa': 7162, 'alike': 7163, 'marionette': 7164, 'abound': 7165, 'stress': 7166, 'sooner': 7167, 'enjoys': 7168, 'tching': 7169, 'comments': 7170, 'slater': 7171, 'ammy': 7172, 'sentimental': 7173, 'steven': 7174, 'spielburg': 7175, 'riding': 7176, 'mercedez': 7177, 'ford': 7178, 'pontiac': 7179, 'terrificcccc': 7180, 'funnn': 7181, 'yeh': 7182, 'sweat': 7183, 'hatred': 7184, 'hearkens': 7185, 'yore': 7186, 'laden': 7187, 'exotic': 7188, 'jumbled': 7189, 'chosen': 7190, 'staple': 7191, 'maniacally': 7192, 'wakened': 7193, 'doomed': 7194, 'pressed': 7195, 'horizon': 7196, 'bucket': 7197, 'gallon': 7198, 'soda': 7199, 'rampage': 7200, 'phrase': 7201, 'coined': 7202, 'impulsive': 7203, 'cheque': 7204, 'characterisation': 7205, 'verite': 7206, 'nope': 7207, 'blaming': 7208, 'scriptwriter': 7209, 'calm': 7210, 'guru': 7211, 'questioned': 7212, 'revenue': 7213, 'he': 7214, 'competing': 7215, 'shrewd': 7216}\n"
          ]
        }
      ]
    },
    {
      "cell_type": "code",
      "source": [
        "threshold = 3\n",
        "total_cnt = len(tokenizer.word_index) # 단어의 수\n",
        "rare_cnt = 0 # 등장 빈도수가 threshold보다 작은 단어의 개수를 카운트\n",
        "total_freq = 0 # 훈련 데이터의 전체 단어 빈도수 총 합\n",
        "rare_freq = 0 # 등장 빈도수가 threshold보다 작은 단어의 등장 빈도수의 총 합\n",
        "\n",
        "# 단어와 빈도수의 쌍(pair)을 key와 value로 받는다.\n",
        "for key, value in tokenizer.word_counts.items():\n",
        "    total_freq = total_freq + value\n",
        "\n",
        "    # 단어의 등장 빈도수가 threshold보다 작으면\n",
        "    if(value < threshold):\n",
        "        rare_cnt = rare_cnt + 1\n",
        "        rare_freq = rare_freq + value"
      ],
      "metadata": {
        "id": "dRQnFbGByUw1"
      },
      "execution_count": 17,
      "outputs": []
    },
    {
      "cell_type": "code",
      "source": [
        "print('단어 집합(vocabulary)의 크기 :',total_cnt)\n",
        "print('등장 빈도가 %s번 이하인 희귀 단어의 수: %s'%(threshold - 1, rare_cnt))\n",
        "print(\"단어 집합에서 희귀 단어의 비율:\", (rare_cnt / total_cnt)*100)\n",
        "print(\"전체 등장 빈도에서 희귀 단어 등장 빈도 비율:\", (rare_freq / total_freq)*100)"
      ],
      "metadata": {
        "colab": {
          "base_uri": "https://localhost:8080/"
        },
        "id": "1QmFmSrwyUsX",
        "outputId": "bda1fcdb-bc3b-42b4-9515-82ee55ea0078"
      },
      "execution_count": 18,
      "outputs": [
        {
          "output_type": "stream",
          "name": "stdout",
          "text": [
            "단어 집합(vocabulary)의 크기 : 7216\n",
            "등장 빈도가 2번 이하인 희귀 단어의 수: 4689\n",
            "단어 집합에서 희귀 단어의 비율: 64.98059866962306\n",
            "전체 등장 빈도에서 희귀 단어 등장 빈도 비율: 11.091172214182345\n"
          ]
        }
      ]
    },
    {
      "cell_type": "code",
      "source": [
        "# 전체 단어 개수 중 빈도수 2이하인 단어는 제거.\n",
        "# 0번 패딩 토큰을 고려하여 + 1\n",
        "vocab_size = total_cnt - rare_cnt + 1\n",
        "print('단어 집합의 크기 :',vocab_size)"
      ],
      "metadata": {
        "colab": {
          "base_uri": "https://localhost:8080/"
        },
        "id": "HYu1vfRX1ufg",
        "outputId": "6b3b9fe0-08f3-4289-8a3a-a17416d6d44f"
      },
      "execution_count": 19,
      "outputs": [
        {
          "output_type": "stream",
          "name": "stdout",
          "text": [
            "단어 집합의 크기 : 2528\n"
          ]
        }
      ]
    },
    {
      "cell_type": "code",
      "source": [
        "tokenizer = Tokenizer(vocab_size) \n",
        "tokenizer.fit_on_texts(X_train)\n",
        "X_train = tokenizer.texts_to_sequences(X_train)\n",
        "X_test = tokenizer.texts_to_sequences(X_test)\n"
      ],
      "metadata": {
        "id": "Tuf-3f8Z1ua-"
      },
      "execution_count": 20,
      "outputs": []
    },
    {
      "cell_type": "code",
      "source": [
        "print(X_train[:3])"
      ],
      "metadata": {
        "colab": {
          "base_uri": "https://localhost:8080/"
        },
        "id": "fBsO5P1L1uYX",
        "outputId": "82de42a1-f25d-427d-c45d-1b3b64126401"
      },
      "execution_count": 21,
      "outputs": [
        {
          "output_type": "stream",
          "name": "stdout",
          "text": [
            "[[1943, 132, 132, 176, 114, 55, 569, 455, 66, 781, 17, 6, 4, 101, 4, 65, 918, 78, 87, 232, 1611, 40, 1253, 4, 65, 143, 87, 30, 1411, 20, 1944, 1412, 406, 191, 56, 2, 66, 59, 207, 42, 148, 689, 611, 1945, 115, 1946, 137, 94, 407, 1254, 116, 1, 727, 116, 1947, 1413, 116, 1612, 1255, 570, 144, 66, 233, 494, 362, 473, 263, 495, 1256, 1114, 23, 36, 129, 1115, 67, 363, 1116, 571, 256, 1613, 549, 57, 496, 348, 192, 234, 31, 1948, 1949, 1117, 1950, 1414, 145, 572, 1951, 573, 574, 550, 575, 88, 70, 330, 1952, 78, 70, 1001, 1, 67, 144, 66, 59, 42, 1, 180, 1614, 728, 1, 1257, 1615, 208, 1117, 68, 494, 1118, 209, 551, 177, 837, 1002, 42, 148, 36, 1953, 1119, 123, 383, 1258, 289, 1, 6, 87, 364, 518, 193, 1259, 6, 434, 456, 54, 58, 46, 39, 42, 47, 2, 140, 23, 6, 29, 690, 691, 518, 1616, 331, 235, 70, 21, 1415, 25, 2, 6, 612], [4, 576, 130, 21, 135, 1, 42, 158, 919, 3, 1, 112, 173, 8, 2, 93, 1003, 151, 145, 1260, 838, 29, 273, 2, 30, 113, 12, 1004, 78, 89, 2, 782, 121, 69, 42, 474, 1, 552, 202, 2, 783, 121, 1261, 137, 1954, 69, 62, 729, 2, 195, 1955, 1617, 839, 244, 3, 2, 497, 177, 4, 51, 475, 41, 1, 202, 1262, 1416, 116, 2, 27, 56, 62, 613, 159, 653, 82, 1618, 31, 236, 332, 614, 47, 21, 919, 51, 75, 498], [1263, 1120, 1619, 840, 1264, 841, 384, 1956, 1121, 1617, 384, 180, 83, 1957, 237, 1958, 181, 1122, 1263, 1620, 209, 221, 654, 109, 1005, 113, 94, 1621, 692, 215, 3, 1417, 181, 1959, 615, 920, 1960, 1961, 88, 1418, 1123, 28, 842, 6, 1006, 130, 79, 1265, 131, 1419, 476, 385, 178, 60, 333, 2, 730, 290, 435, 6, 91, 43, 106, 1123, 313, 75, 1622, 1420, 313, 66, 313, 1123, 291, 264, 408, 655, 69, 62, 34, 203, 1418, 6, 1123, 43, 1263, 4, 1124, 1123, 34, 203, 1418, 1124, 204, 12, 519, 731, 42, 11, 457, 655, 216, 349, 1962, 160, 1124, 88, 88, 921, 88, 365, 1125, 1420, 1266, 577, 1963, 1126, 1263, 1614, 88, 578, 1623, 63, 1964, 245, 21, 85, 73, 90, 386, 90, 784, 321, 314, 205, 31, 17, 387, 21, 1965, 553, 2, 322, 553, 1262, 208, 257, 843, 616, 32, 1116, 32, 838, 11, 21, 117, 1622, 1262, 158, 2, 1421, 1267, 1966, 1127, 173, 257, 1007, 1624, 102, 204, 178, 8, 156, 246, 617, 495, 277, 2, 1128, 1129, 1967, 1968, 11, 66, 46, 54, 58, 1130, 1422, 114, 28, 656, 1625, 80, 31, 137, 29, 110, 182, 78, 81, 732, 844, 1969, 56, 17, 101, 571, 733, 549, 1268, 103, 61, 1970, 6, 1971, 1972, 611, 1970, 1973, 1626, 1008, 611, 1131, 1009, 169, 215, 28, 228, 691, 1627, 1974, 409, 1975, 61, 228, 1976, 313, 1423, 1977, 618, 170, 149, 1978, 149, 657, 1424, 693, 183, 1628, 693, 53, 1979, 922, 1629, 1010, 170, 657, 1980, 27, 554, 321, 923, 619, 477, 83, 140, 184, 83, 106, 278, 217, 274, 58, 2, 6, 91, 56, 436, 321, 923, 734, 1117, 1269, 185, 6, 4, 1265, 323, 3, 289, 11, 61, 117, 102, 11, 1630, 1132, 127, 579, 1631, 1981, 2, 1263, 28, 385, 692, 313, 384, 323, 32, 133, 924, 1418, 410, 385, 218, 43, 2, 68, 28, 574, 313, 1982, 156, 247, 1632, 925, 408, 219, 692, 1633, 364, 109]]\n"
          ]
        }
      ]
    },
    {
      "cell_type": "code",
      "source": [
        "y_train = np.array(train_data['label'])\n",
        "y_test = np.array(test_data['label'])"
      ],
      "metadata": {
        "id": "8PqQEXYm6EnE"
      },
      "execution_count": 22,
      "outputs": []
    },
    {
      "cell_type": "code",
      "source": [
        "drop_train = [index for index, sentence in enumerate(X_train) if len(sentence) < 1]"
      ],
      "metadata": {
        "id": "IsKqp5Hw6EiN"
      },
      "execution_count": 23,
      "outputs": []
    },
    {
      "cell_type": "code",
      "source": [
        "# 빈 샘플들을 제거\n",
        "X_train = np.delete(X_train, drop_train, axis=0)\n",
        "y_train = np.delete(y_train, drop_train, axis=0)\n",
        "print(len(X_train))\n",
        "print(len(y_train))"
      ],
      "metadata": {
        "colab": {
          "base_uri": "https://localhost:8080/"
        },
        "id": "1cydlDsm6Ebc",
        "outputId": "dcf1ebc3-48b1-4b0a-fce6-3d7f3d463ac4"
      },
      "execution_count": 24,
      "outputs": [
        {
          "output_type": "stream",
          "name": "stdout",
          "text": [
            "481\n",
            "481\n"
          ]
        },
        {
          "output_type": "stream",
          "name": "stderr",
          "text": [
            "/usr/local/lib/python3.8/dist-packages/numpy/lib/function_base.py:4454: VisibleDeprecationWarning: Creating an ndarray from ragged nested sequences (which is a list-or-tuple of lists-or-tuples-or ndarrays with different lengths or shapes) is deprecated. If you meant to do this, you must specify 'dtype=object' when creating the ndarray.\n",
            "  arr = asarray(arr)\n"
          ]
        }
      ]
    },
    {
      "cell_type": "code",
      "source": [
        "print('리뷰의 최대 길이 :',max(len(review) for review in X_train))\n",
        "print('리뷰의 평균 길이 :',sum(map(len, X_train))/len(X_train))\n",
        "plt.hist([len(review) for review in X_train], bins=50)\n",
        "plt.xlabel('length of samples')\n",
        "plt.ylabel('number of samples')\n",
        "plt.show()"
      ],
      "metadata": {
        "colab": {
          "base_uri": "https://localhost:8080/",
          "height": 316
        },
        "id": "KAqJs7t56KkK",
        "outputId": "6e5981ba-1829-464f-c57b-902c8a3119fa"
      },
      "execution_count": 25,
      "outputs": [
        {
          "output_type": "stream",
          "name": "stdout",
          "text": [
            "리뷰의 최대 길이 : 562\n",
            "리뷰의 평균 길이 : 95.79417879417879\n"
          ]
        },
        {
          "output_type": "display_data",
          "data": {
            "text/plain": [
              "<Figure size 432x288 with 1 Axes>"
            ],
            "image/png": "[encoded data removed]"
          },
          "metadata": {
            "needs_background": "light"
          }
        }
      ]
    },
    {
      "cell_type": "code",
      "source": [
        "def below_threshold_len(max_len, nested_list):\n",
        "  count = 0\n",
        "  for sentence in nested_list:\n",
        "    if(len(sentence) <= max_len):\n",
        "        count = count + 1\n",
        "  print('전체 샘플 중 길이가 %s 이하인 리뷰의 비율: %s'%(max_len, (count / len(nested_list))*100))"
      ],
      "metadata": {
        "id": "VMev6eeB6Kfw"
      },
      "execution_count": 26,
      "outputs": []
    },
    {
      "cell_type": "code",
      "source": [
        "max_len = 300\n",
        "below_threshold_len(max_len, X_train)"
      ],
      "metadata": {
        "colab": {
          "base_uri": "https://localhost:8080/"
        },
        "id": "_KdgBWTE6UhD",
        "outputId": "fded2852-a8a4-4d81-e0b6-56e617241a2b"
      },
      "execution_count": 27,
      "outputs": [
        {
          "output_type": "stream",
          "name": "stdout",
          "text": [
            "전체 샘플 중 길이가 300 이하인 리뷰의 비율: 97.5051975051975\n"
          ]
        }
      ]
    },
    {
      "cell_type": "code",
      "source": [
        "X_train = pad_sequences(X_train, maxlen=max_len)\n",
        "X_test = pad_sequences(X_test, maxlen=max_len)"
      ],
      "metadata": {
        "id": "_TVPXz446KZI"
      },
      "execution_count": 28,
      "outputs": []
    },
    {
      "cell_type": "markdown",
      "source": [
        "**5. 실제 학습 단계**"
      ],
      "metadata": {
        "id": "wETFV10H11gL"
      }
    },
    {
      "cell_type": "code",
      "source": [
        "from tensorflow.keras.layers import Embedding, Dense, LSTM\n",
        "from tensorflow.keras.models import Sequential\n",
        "from tensorflow.keras.models import load_model\n",
        "from tensorflow.keras.callbacks import EarlyStopping, ModelCheckpoint"
      ],
      "metadata": {
        "id": "AEUUymiw1uUS"
      },
      "execution_count": 29,
      "outputs": []
    },
    {
      "cell_type": "code",
      "source": [
        "embedding_dim = 100\n",
        "hidden_units = 128"
      ],
      "metadata": {
        "id": "N1CsXPcM1uQ7"
      },
      "execution_count": 30,
      "outputs": []
    },
    {
      "cell_type": "code",
      "source": [
        "model = Sequential()\n",
        "model.add(Embedding(vocab_size, embedding_dim))\n",
        "model.add(LSTM(hidden_units))\n",
        "model.add(Dense(1, activation='sigmoid'))"
      ],
      "metadata": {
        "id": "rof3Zfu3nW1u"
      },
      "execution_count": 31,
      "outputs": []
    },
    {
      "cell_type": "code",
      "source": [
        "es = EarlyStopping(monitor='val_loss', mode='min', verbose=1, patience=4)\n",
        "mc = ModelCheckpoint('best_model.h5', monitor='val_acc', mode='max', verbose=1, save_best_only=True)"
      ],
      "metadata": {
        "id": "TQ6rGEBN6joq"
      },
      "execution_count": 32,
      "outputs": []
    },
    {
      "cell_type": "code",
      "source": [
        "model.compile(optimizer='rmsprop', loss='binary_crossentropy', metrics=['acc'])\n",
        "history = model.fit(X_train, y_train, epochs=15, callbacks=[es, mc], batch_size=64, validation_split=0.2)"
      ],
      "metadata": {
        "colab": {
          "base_uri": "https://localhost:8080/"
        },
        "id": "NsWTepgo6jlF",
        "outputId": "56dc0823-369b-4015-9bbd-b29978a6a22e"
      },
      "execution_count": 33,
      "outputs": [
        {
          "output_type": "stream",
          "name": "stdout",
          "text": [
            "Epoch 1/15\n",
            "6/6 [==============================] - ETA: 0s - loss: 0.7305 - acc: 0.7057\n",
            "Epoch 1: val_acc improved from -inf to 0.00000, saving model to best_model.h5\n",
            "6/6 [==============================] - 7s 817ms/step - loss: 0.7305 - acc: 0.7057 - val_loss: 0.9140 - val_acc: 0.0000e+00\n",
            "Epoch 2/15\n",
            "6/6 [==============================] - ETA: 0s - loss: 0.5406 - acc: 0.7656\n",
            "Epoch 2: val_acc improved from 0.00000 to 0.25773, saving model to best_model.h5\n",
            "6/6 [==============================] - 4s 689ms/step - loss: 0.5406 - acc: 0.7656 - val_loss: 1.0215 - val_acc: 0.2577\n",
            "Epoch 3/15\n",
            "6/6 [==============================] - ETA: 0s - loss: 0.4386 - acc: 0.8620\n",
            "Epoch 3: val_acc improved from 0.25773 to 0.41237, saving model to best_model.h5\n",
            "6/6 [==============================] - 4s 679ms/step - loss: 0.4386 - acc: 0.8620 - val_loss: 0.9872 - val_acc: 0.4124\n",
            "Epoch 4/15\n",
            "6/6 [==============================] - ETA: 0s - loss: 0.2233 - acc: 0.9479\n",
            "Epoch 4: val_acc improved from 0.41237 to 0.63918, saving model to best_model.h5\n",
            "6/6 [==============================] - 4s 665ms/step - loss: 0.2233 - acc: 0.9479 - val_loss: 0.8032 - val_acc: 0.6392\n",
            "Epoch 5/15\n",
            "6/6 [==============================] - ETA: 0s - loss: 0.1255 - acc: 0.9870\n",
            "Epoch 5: val_acc improved from 0.63918 to 0.87629, saving model to best_model.h5\n",
            "6/6 [==============================] - 4s 672ms/step - loss: 0.1255 - acc: 0.9870 - val_loss: 0.3078 - val_acc: 0.8763\n",
            "Epoch 6/15\n",
            "6/6 [==============================] - ETA: 0s - loss: 0.0592 - acc: 0.9922\n",
            "Epoch 6: val_acc did not improve from 0.87629\n",
            "6/6 [==============================] - 4s 661ms/step - loss: 0.0592 - acc: 0.9922 - val_loss: 0.3449 - val_acc: 0.8660\n",
            "Epoch 7/15\n",
            "6/6 [==============================] - ETA: 0s - loss: 0.0297 - acc: 0.9948\n",
            "Epoch 7: val_acc did not improve from 0.87629\n",
            "6/6 [==============================] - 4s 660ms/step - loss: 0.0297 - acc: 0.9948 - val_loss: 1.1533 - val_acc: 0.6598\n",
            "Epoch 8/15\n",
            "6/6 [==============================] - ETA: 0s - loss: 0.0192 - acc: 0.9974\n",
            "Epoch 8: val_acc did not improve from 0.87629\n",
            "6/6 [==============================] - 4s 665ms/step - loss: 0.0192 - acc: 0.9974 - val_loss: 1.4700 - val_acc: 0.6289\n",
            "Epoch 9/15\n",
            "6/6 [==============================] - ETA: 0s - loss: 0.0260 - acc: 0.9974\n",
            "Epoch 9: val_acc did not improve from 0.87629\n",
            "6/6 [==============================] - 4s 667ms/step - loss: 0.0260 - acc: 0.9974 - val_loss: 1.3958 - val_acc: 0.6186\n",
            "Epoch 9: early stopping\n"
          ]
        }
      ]
    },
    {
      "cell_type": "code",
      "source": [
        "loaded_model = load_model('best_model.h5')\n",
        "print(\"\\n 테스트 정확도: %.4f\" % (loaded_model.evaluate(X_test, y_test)[1]))"
      ],
      "metadata": {
        "colab": {
          "base_uri": "https://localhost:8080/"
        },
        "id": "AaX0K9216jhV",
        "outputId": "3f16ae4d-2234-403b-d26a-45f0e63e1ee4"
      },
      "execution_count": 34,
      "outputs": [
        {
          "output_type": "stream",
          "name": "stdout",
          "text": [
            "6/6 [==============================] - 1s 118ms/step - loss: 0.2249 - acc: 0.9074\n",
            "\n",
            " 테스트 정확도: 0.9074\n"
          ]
        }
      ]
    },
    {
      "cell_type": "code",
      "source": [
        "def classify_predict(new_sentence):\n",
        "  new_sentence = preprocessing(new_sentence) # 토큰화\n",
        "  encoded = tokenizer.texts_to_sequences([new_sentence]) # 정수 인코딩\n",
        "  pad_new = pad_sequences(encoded, maxlen = max_len) # 패딩\n",
        "  score = float(loaded_model.predict(pad_new)) # 예측\n",
        "  if(score > 0.5):\n",
        "    print(\"{:.2f}% 확률로 기생충 리뷰입니다.\\n\".format(score * 100))\n",
        "  else:\n",
        "    print(\"{:.2f}% 확률로 디워 리뷰입니다.\\n\".format((1 - score) * 100))"
      ],
      "metadata": {
        "id": "zFVof10A6jcY"
      },
      "execution_count": 35,
      "outputs": []
    },
    {
      "cell_type": "code",
      "source": [
        "classify_predict(\"So was it a dragon? or a snake?\")"
      ],
      "metadata": {
        "colab": {
          "base_uri": "https://localhost:8080/"
        },
        "id": "24_Wvz1YnWzI",
        "outputId": "f53d261d-7b62-45b2-c790-ca4b7797a34b"
      },
      "execution_count": 41,
      "outputs": [
        {
          "output_type": "stream",
          "name": "stdout",
          "text": [
            "1/1 [==============================] - 0s 111ms/step\n",
            "87.11% 확률로 기생충 리뷰입니다.\n",
            "\n"
          ]
        }
      ]
    }
  ]
}